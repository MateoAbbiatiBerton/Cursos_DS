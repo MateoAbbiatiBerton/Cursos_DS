{
 "cells": [
  {
   "cell_type": "markdown",
   "metadata": {},
   "source": [
    "### Librerias"
   ]
  },
  {
   "cell_type": "code",
   "execution_count": 3,
   "metadata": {},
   "outputs": [],
   "source": [
    "import random\n",
    "import math\n",
    "import pandas as pd\n",
    "import numpy as np"
   ]
  },
  {
   "cell_type": "markdown",
   "metadata": {},
   "source": [
    "### Importar los Datos"
   ]
  },
  {
   "cell_type": "code",
   "execution_count": 4,
   "metadata": {},
   "outputs": [],
   "source": [
    "experencia_siniestral = pd.read_csv('./experiencia_siniestral_por_poliza.csv')\n",
    "frecuencias_historicas = pd.read_csv('./frecuencias_historicas_por_poliza.csv')"
   ]
  },
  {
   "cell_type": "code",
   "execution_count": 5,
   "metadata": {},
   "outputs": [
    {
     "data": {
      "text/html": [
       "<div>\n",
       "<style scoped>\n",
       "    .dataframe tbody tr th:only-of-type {\n",
       "        vertical-align: middle;\n",
       "    }\n",
       "\n",
       "    .dataframe tbody tr th {\n",
       "        vertical-align: top;\n",
       "    }\n",
       "\n",
       "    .dataframe thead th {\n",
       "        text-align: right;\n",
       "    }\n",
       "</style>\n",
       "<table border=\"1\" class=\"dataframe\">\n",
       "  <thead>\n",
       "    <tr style=\"text-align: right;\">\n",
       "      <th></th>\n",
       "      <th>Monto Pagado</th>\n",
       "      <th>Poliza A</th>\n",
       "      <th>Poliza B</th>\n",
       "      <th>Poliza C</th>\n",
       "    </tr>\n",
       "  </thead>\n",
       "  <tbody>\n",
       "    <tr>\n",
       "      <th>0</th>\n",
       "      <td>5000</td>\n",
       "      <td>610</td>\n",
       "      <td>456</td>\n",
       "      <td>551</td>\n",
       "    </tr>\n",
       "    <tr>\n",
       "      <th>1</th>\n",
       "      <td>10000</td>\n",
       "      <td>77</td>\n",
       "      <td>501</td>\n",
       "      <td>959</td>\n",
       "    </tr>\n",
       "    <tr>\n",
       "      <th>2</th>\n",
       "      <td>15000</td>\n",
       "      <td>262</td>\n",
       "      <td>170</td>\n",
       "      <td>174</td>\n",
       "    </tr>\n",
       "    <tr>\n",
       "      <th>3</th>\n",
       "      <td>20000</td>\n",
       "      <td>628</td>\n",
       "      <td>726</td>\n",
       "      <td>523</td>\n",
       "    </tr>\n",
       "    <tr>\n",
       "      <th>4</th>\n",
       "      <td>25000</td>\n",
       "      <td>274</td>\n",
       "      <td>887</td>\n",
       "      <td>526</td>\n",
       "    </tr>\n",
       "  </tbody>\n",
       "</table>\n",
       "</div>"
      ],
      "text/plain": [
       "   Monto Pagado  Poliza A  Poliza B  Poliza C\n",
       "0          5000       610       456       551\n",
       "1         10000        77       501       959\n",
       "2         15000       262       170       174\n",
       "3         20000       628       726       523\n",
       "4         25000       274       887       526"
      ]
     },
     "execution_count": 5,
     "metadata": {},
     "output_type": "execute_result"
    }
   ],
   "source": [
    "experencia_siniestral.head()"
   ]
  },
  {
   "cell_type": "code",
   "execution_count": 6,
   "metadata": {},
   "outputs": [
    {
     "data": {
      "text/html": [
       "<div>\n",
       "<style scoped>\n",
       "    .dataframe tbody tr th:only-of-type {\n",
       "        vertical-align: middle;\n",
       "    }\n",
       "\n",
       "    .dataframe tbody tr th {\n",
       "        vertical-align: top;\n",
       "    }\n",
       "\n",
       "    .dataframe thead th {\n",
       "        text-align: right;\n",
       "    }\n",
       "</style>\n",
       "<table border=\"1\" class=\"dataframe\">\n",
       "  <thead>\n",
       "    <tr style=\"text-align: right;\">\n",
       "      <th></th>\n",
       "      <th>A (NOA)</th>\n",
       "      <th>B (Cuyo)</th>\n",
       "      <th>C (Centro)</th>\n",
       "    </tr>\n",
       "    <tr>\n",
       "      <th>Indice</th>\n",
       "      <th></th>\n",
       "      <th></th>\n",
       "      <th></th>\n",
       "    </tr>\n",
       "  </thead>\n",
       "  <tbody>\n",
       "    <tr>\n",
       "      <th>0</th>\n",
       "      <td>2</td>\n",
       "      <td>4</td>\n",
       "      <td>2</td>\n",
       "    </tr>\n",
       "    <tr>\n",
       "      <th>1</th>\n",
       "      <td>2</td>\n",
       "      <td>2</td>\n",
       "      <td>1</td>\n",
       "    </tr>\n",
       "    <tr>\n",
       "      <th>2</th>\n",
       "      <td>4</td>\n",
       "      <td>1</td>\n",
       "      <td>1</td>\n",
       "    </tr>\n",
       "    <tr>\n",
       "      <th>3</th>\n",
       "      <td>3</td>\n",
       "      <td>4</td>\n",
       "      <td>0</td>\n",
       "    </tr>\n",
       "    <tr>\n",
       "      <th>4</th>\n",
       "      <td>4</td>\n",
       "      <td>3</td>\n",
       "      <td>1</td>\n",
       "    </tr>\n",
       "  </tbody>\n",
       "</table>\n",
       "</div>"
      ],
      "text/plain": [
       "        A (NOA)  B (Cuyo)  C (Centro)\n",
       "Indice                               \n",
       "0             2         4           2\n",
       "1             2         2           1\n",
       "2             4         1           1\n",
       "3             3         4           0\n",
       "4             4         3           1"
      ]
     },
     "execution_count": 6,
     "metadata": {},
     "output_type": "execute_result"
    }
   ],
   "source": [
    "frecuencias_historicas.columns = ['Indice', 'A (NOA)', 'B (Cuyo)', 'C (Centro)']\n",
    "frecuencias_historicas = frecuencias_historicas.set_index('Indice')\n",
    "\n",
    "frecuencias_historicas.head()"
   ]
  },
  {
   "cell_type": "code",
   "execution_count": 7,
   "metadata": {},
   "outputs": [
    {
     "data": {
      "text/html": [
       "<div>\n",
       "<style scoped>\n",
       "    .dataframe tbody tr th:only-of-type {\n",
       "        vertical-align: middle;\n",
       "    }\n",
       "\n",
       "    .dataframe tbody tr th {\n",
       "        vertical-align: top;\n",
       "    }\n",
       "\n",
       "    .dataframe thead th {\n",
       "        text-align: right;\n",
       "    }\n",
       "</style>\n",
       "<table border=\"1\" class=\"dataframe\">\n",
       "  <thead>\n",
       "    <tr style=\"text-align: right;\">\n",
       "      <th></th>\n",
       "      <th>Probabilidad</th>\n",
       "    </tr>\n",
       "    <tr>\n",
       "      <th>Poliza</th>\n",
       "      <th></th>\n",
       "    </tr>\n",
       "  </thead>\n",
       "  <tbody>\n",
       "    <tr>\n",
       "      <th>A (NOA)</th>\n",
       "      <td>0.31</td>\n",
       "    </tr>\n",
       "    <tr>\n",
       "      <th>B (Cuyo)</th>\n",
       "      <td>0.17</td>\n",
       "    </tr>\n",
       "    <tr>\n",
       "      <th>C (Centro)</th>\n",
       "      <td>0.52</td>\n",
       "    </tr>\n",
       "  </tbody>\n",
       "</table>\n",
       "</div>"
      ],
      "text/plain": [
       "            Probabilidad\n",
       "Poliza                  \n",
       "A (NOA)             0.31\n",
       "B (Cuyo)            0.17\n",
       "C (Centro)          0.52"
      ]
     },
     "execution_count": 7,
     "metadata": {},
     "output_type": "execute_result"
    }
   ],
   "source": [
    "PROBABILIDADES = pd.DataFrame(data={\n",
    "    'Poliza': ['A (NOA)', 'B (Cuyo)', 'C (Centro)'],\n",
    "    'Probabilidad': [0.31, 0.17, 0.52]\n",
    "})\n",
    "PROBABILIDADES.set_index('Poliza', inplace=True)\n",
    "# PROBABILIDADES['Probabilidad'].get('A (NOA)')\n",
    "PROBABILIDADES"
   ]
  },
  {
   "cell_type": "markdown",
   "metadata": {},
   "source": [
    "### Valores de la serie"
   ]
  },
  {
   "cell_type": "code",
   "execution_count": 8,
   "metadata": {},
   "outputs": [],
   "source": [
    "def valores(xi,ni):\n",
    "    Esp_i = np.mean(xi)*np.mean(ni)\n",
    "    var_s_i = np.mean(ni)*np.var(xi) + np.var(xi)*np.mean(xi)**2\n",
    "    sigma_ries_i = var_s_i **0.5\n",
    "    pi_i = Esp_i + 0.34576566*sigma_ries_i\n",
    "    return {'Esperanza:':float(Esp_i),'Varianza:':float(var_s_i),'Sigma(riesgos)':float(sigma_ries_i),'pi':float(pi_i)}\n"
   ]
  },
  {
   "cell_type": "markdown",
   "metadata": {},
   "source": [
    "#### A (NOA)"
   ]
  },
  {
   "cell_type": "code",
   "execution_count": 9,
   "metadata": {},
   "outputs": [
    {
     "data": {
      "text/plain": [
       "{'Esperanza:': 789.0500000000001,\n",
       " 'Varianza:': 21445810373.67887,\n",
       " 'Sigma(riesgos)': 146443.88131184885,\n",
       " 'pi': 51424.315274753084}"
      ]
     },
     "execution_count": 9,
     "metadata": {},
     "output_type": "execute_result"
    }
   ],
   "source": [
    "x_A = experencia_siniestral['Poliza A']\n",
    "n_A = frecuencias_historicas['A (NOA)']\n",
    "valores_A = valores(x_A,n_A)\n",
    "valores_A"
   ]
  },
  {
   "cell_type": "markdown",
   "metadata": {},
   "source": [
    "#### (B) Cuyo "
   ]
  },
  {
   "cell_type": "code",
   "execution_count": 10,
   "metadata": {},
   "outputs": [
    {
     "data": {
      "text/plain": [
       "{'Esperanza:': 2248.25,\n",
       " 'Varianza:': 21738115974.72185,\n",
       " 'Sigma(riesgos)': 147438.51591331844,\n",
       " 'pi': 53227.42576418905}"
      ]
     },
     "execution_count": 10,
     "metadata": {},
     "output_type": "execute_result"
    }
   ],
   "source": [
    "x_B = experencia_siniestral['Poliza B']\n",
    "n_B = frecuencias_historicas['B (Cuyo)']\n",
    "valores_B = valores(x_B,n_B)\n",
    "valores_B"
   ]
  },
  {
   "cell_type": "markdown",
   "metadata": {},
   "source": [
    "#### (C) Centro "
   ]
  },
  {
   "cell_type": "code",
   "execution_count": 11,
   "metadata": {},
   "outputs": [
    {
     "data": {
      "text/plain": [
       "{'Esperanza:': 437.05,\n",
       " 'Varianza:': 24365110189.87341,\n",
       " 'Sigma(riesgos)': 156093.27400587575,\n",
       " 'pi': 54408.74390820247}"
      ]
     },
     "execution_count": 11,
     "metadata": {},
     "output_type": "execute_result"
    }
   ],
   "source": [
    "x_C = experencia_siniestral['Poliza C']\n",
    "n_C = frecuencias_historicas['C (Centro)']\n",
    "valores_C = valores(x_C,n_C)\n",
    "valores_C"
   ]
  },
  {
   "cell_type": "markdown",
   "metadata": {},
   "source": [
    "### Simular procesos de Poisson"
   ]
  },
  {
   "cell_type": "code",
   "execution_count": null,
   "metadata": {},
   "outputs": [],
   "source": [
    "l = 0.5 # landa \n",
    "t = 0 # momento t\n",
    "I = 0 # Numero del evento\n",
    "S = {} # lista de los tiempros de cada evento\n",
    "T= 10 # instante n-esimo\n",
    "random.seed(123) # fijar la semilla del proceso  random\n",
    "while True:\n",
    "    U = random.random()\n",
    "    t = 1-l**-1 * math.log(U)\n",
    "    I +=1\n",
    "    S[I] = t\n",
    "    if t>T:\n",
    "        break\n",
    "\n"
   ]
  },
  {
   "cell_type": "code",
   "execution_count": 17,
   "metadata": {},
   "outputs": [
    {
     "name": "stdout",
     "output_type": "stream",
     "text": [
      "\n",
      "Valores de S(T): {1: 1.3253071868256276, 2: 2.942810681477065, 3: 4.675493336902887, 4: 3.516227622292746, 5: 3.7886321883828673, 6: 1.6201500337907562, 7: 7.2571727564443576, 8: 2.6622750120128202, 9: 1.36471815107856, 10: 4.43491970032982, 11: 3.8124208265491126, 12: 12.039130794172905}\n",
      "Valores de T: 10\n",
      "\n"
     ]
    }
   ],
   "source": [
    "print(f'''\n",
    "Valores de S(T): {S}\n",
    "Valores de T: {T}\n",
    "''')"
   ]
  }
 ],
 "metadata": {
  "kernelspec": {
   "display_name": "general_purpose",
   "language": "python",
   "name": "python3"
  },
  "language_info": {
   "codemirror_mode": {
    "name": "ipython",
    "version": 3
   },
   "file_extension": ".py",
   "mimetype": "text/x-python",
   "name": "python",
   "nbconvert_exporter": "python",
   "pygments_lexer": "ipython3",
   "version": "3.12.4"
  }
 },
 "nbformat": 4,
 "nbformat_minor": 2
}
