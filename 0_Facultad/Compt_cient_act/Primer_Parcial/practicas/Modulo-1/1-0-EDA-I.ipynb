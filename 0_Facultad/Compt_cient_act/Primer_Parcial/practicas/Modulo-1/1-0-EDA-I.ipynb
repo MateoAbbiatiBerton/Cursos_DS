{
 "cells": [
  {
   "cell_type": "markdown",
   "metadata": {},
   "source": [
    "# **Práctica 1-0**: EDA I\n",
    "\n",
    "----"
   ]
  },
  {
   "cell_type": "markdown",
   "metadata": {},
   "source": [
    "Utilizando el siguiente dataset ([WorldCupMatches](https://www.kaggle.com/datasets/abecklas/fifa-world-cup)) se deberá responder las consignas que se presentan a continuación.\n",
    "\n",
    "* El archivo deberá ser descargado desde el link provisto previamente.\n",
    "* Tenga en cuenta que posiblemente requiera efectuar alguna clase de limpieza o transformación sobre los datos para poder resolver los ejercicios."
   ]
  },
  {
   "cell_type": "markdown",
   "metadata": {},
   "source": [
    "#### Ejercicio 1:\n",
    "\n",
    "Obtenga la cantidad total de goles en los mundiales del año:\n",
    "1. 1978\n",
    "1. 1986\n",
    "1. 1990\n"
   ]
  },
  {
   "cell_type": "markdown",
   "metadata": {},
   "source": [
    "#### Ejercicio 2:\n",
    "\n",
    "Obtenga la cantidad de goles anotados por Argentina entre 1998 y 2010, inclusive.\n",
    "¿Cuántos fueron de ’local’ (*home*) y cuántos de ’visitante’ (*away*)?"
   ]
  },
  {
   "cell_type": "markdown",
   "metadata": {},
   "source": [
    "#### Ejercicio 3:\n",
    "\n",
    "¿Cuál de los siguientes países jugó más mundiales: Brasil, Inglaterra o Francia? Indique el total de veces que jugó cada uno."
   ]
  },
  {
   "cell_type": "markdown",
   "metadata": {},
   "source": [
    "#### Ejercicio 4:\n",
    "\n",
    "Calcule el promedio, la mediana y el desvío de los goles anotados por equipos ’locales’ (home) entre los años 2006 y 2014, inclusive. Grafique un histograma con la distribución de dicha variable."
   ]
  },
  {
   "cell_type": "markdown",
   "metadata": {},
   "source": [
    "#### Ejercicio 5:\n",
    "\n",
    "Obtenga la media y la varianza de la asistencia de cada partido (attendance) entre los años 1930 y 1960. Realice lo mismo para el período 1980 a 2010. Compare ambas distribuciones mediante un gráfico donde se vean dichas distribuciones sobre el mismo eje."
   ]
  },
  {
   "cell_type": "markdown",
   "metadata": {},
   "source": [
    "#### Ejercicio 6:\n",
    "\n",
    "Obtenga cual es el país que:\n",
    "1. más partidos ganó entre 1970 y 1990\n",
    "1. menos partidos ganó entre 2002 y 2010\n",
    "1. anotó la mayor cantidad de goles en el mismo partido entre 1930 y 1950\n",
    "1. más empates ha tenido"
   ]
  },
  {
   "cell_type": "markdown",
   "metadata": {},
   "source": [
    "#### Ejercicio 7:\n",
    "\n",
    "Obenga el promedio de goles a favor por partido para Argentina y Alemania en el mundial del año 2014.\n"
   ]
  },
  {
   "cell_type": "markdown",
   "metadata": {},
   "source": [
    "#### Ejercicio 8:\n",
    "\n",
    "Grafique a través de un gráfico de barras los 10 países con más participaciones en mundiales."
   ]
  },
  {
   "cell_type": "markdown",
   "metadata": {},
   "source": [
    "#### Ejercicio 9:\n",
    "\n",
    "Determine si existe alguna ciudad que haya tenido más de 6 apariciones en mundiales y que en cada una de dichas ocasiones haya tenido más de 35.000 espectadores."
   ]
  },
  {
   "cell_type": "markdown",
   "metadata": {},
   "source": [
    "#### Ejercicio 10:\n",
    "\n",
    "¿Cuál es la ciudad con el mayor número de partidos que han terminado con una diferencia de 3 goles?"
   ]
  },
  {
   "cell_type": "markdown",
   "metadata": {},
   "source": [
    "#### Ejercicio 11:\n",
    "\n",
    "Con el conjunto de datos provisto, se deberá generar una serie temporal que se podrá generar teniendo en cuenta los datos que se detallan a continuación:\n",
    "* variable a analizar en la serie, es decir, las observaciones, serán la cantidad de goles anotados en total en cada edición del mundial;\n",
    "* el índice de la serie (index) será el año del mundial;\n",
    "* se dispondrá de una observación cada 4 (cuatro) años, ya que es la frecuencia\n",
    "con la que se generan los datos;\n",
    "* la serie será univariada, por lo tanto, tendrá solo una columna de datos.\n",
    "\n",
    "Una vez obtenida la serie de goles, se pide:\n",
    "1. Realizar un Análisis Descriptivo de las Series de Tiempo (Percentiles, Promedio, Varianza, Kurtosis, Asimetría, Gráfico de Box-Plot, etc.)\n",
    "1. Realizar el mismo análisis para los períodos ***1930 - 1970*** y ***1971 - en adelante***. Comparar los resultados y extraer conclusiones.\n",
    "1. Realizar el punto *1* pero para los siguientes países de forma individual:<br>\n",
    "        a. Argentina<br>\n",
    "        b. Brasil<br>\n",
    "        c. Francia<br>"
   ]
  }
 ],
 "metadata": {
  "kernelspec": {
   "display_name": "base",
   "language": "python",
   "name": "python3"
  },
  "language_info": {
   "codemirror_mode": {
    "name": "ipython",
    "version": 3
   },
   "file_extension": ".py",
   "mimetype": "text/x-python",
   "name": "python",
   "nbconvert_exporter": "python",
   "pygments_lexer": "ipython3",
   "version": "3.8.16"
  }
 },
 "nbformat": 4,
 "nbformat_minor": 2
}
