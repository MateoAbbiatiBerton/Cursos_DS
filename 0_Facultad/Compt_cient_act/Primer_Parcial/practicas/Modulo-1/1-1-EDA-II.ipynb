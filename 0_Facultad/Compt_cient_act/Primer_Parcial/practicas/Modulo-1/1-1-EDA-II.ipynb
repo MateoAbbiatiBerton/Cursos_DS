{
 "cells": [
  {
   "cell_type": "markdown",
   "metadata": {},
   "source": [
    "# **Práctica 1-1**: EDA II\n",
    "\n",
    "----"
   ]
  },
  {
   "cell_type": "markdown",
   "metadata": {},
   "source": [
    "El objetivo de esta práctica es aplicar todos los conceptos de análisis de datos (EDA) junto con todos los conceptos vistos anteriormente. Para ello, se pondrán a disposición 3 (tres) fuentes de datos o datasets, independientes uno del otro.\n",
    "\n",
    "**Fuentes de datos**\n",
    "* [Netflix Movies and TV Shows](https://www.kaggle.com/datasets/arnavvvvv/netflix-movies-and-tv-shows/data)\n",
    "* [Vehicle Sales Data](https://www.kaggle.com/datasets/syedanwarafridi/vehicle-sales-data/data)\n",
    "* [COVID-19 GLOBAL-Dataset](https://www.kaggle.com/datasets/nagajyothidakka/covid-19-global-dataset)\n",
    "\n",
    "Toda la información adicional sobre estos datasets se encuentra en la página web de ***Kaggle*** (accesible a través de los links provistos)."
   ]
  }
 ],
 "metadata": {
  "language_info": {
   "name": "python"
  }
 },
 "nbformat": 4,
 "nbformat_minor": 2
}
