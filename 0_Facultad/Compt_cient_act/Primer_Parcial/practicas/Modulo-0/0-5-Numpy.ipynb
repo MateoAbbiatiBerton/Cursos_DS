{
 "cells": [
  {
   "cell_type": "markdown",
   "metadata": {},
   "source": [
    "# **Práctica 0-5**: Numpy\n",
    "\n",
    "----"
   ]
  },
  {
   "cell_type": "code",
   "execution_count": 1,
   "metadata": {},
   "outputs": [],
   "source": [
    "import numpy as np"
   ]
  },
  {
   "cell_type": "markdown",
   "metadata": {},
   "source": [
    "#### Ejercicio 1:\n",
    "\n",
    "Cree un vector nulo (es decir, un vector cuyos elementos sean 0) que posee las siguientes dimensiones:\n",
    "1. (5,)\n",
    "1. (2,3)\n",
    "1. (4,2)"
   ]
  },
  {
   "cell_type": "markdown",
   "metadata": {},
   "source": [
    "#### Ejercicio 2:\n",
    "\n",
    "Cree un vector nulo (es decir, un vector cuyos elementos sean 0) que posea dimensión (10,). Reemplace el valor de la quinta posición por otro valor."
   ]
  },
  {
   "cell_type": "markdown",
   "metadata": {},
   "source": [
    "#### Ejercicio 3:\n",
    "\n",
    "Cree un vector que posea todos los valores enteros desde el 6 hasta el 24, inclusive."
   ]
  },
  {
   "cell_type": "markdown",
   "metadata": {},
   "source": [
    "#### Ejercicio 4:\n",
    "\n",
    "Cree una matriz de 3x3 que posea valores consecutivos del 0 al 8."
   ]
  },
  {
   "cell_type": "markdown",
   "metadata": {},
   "source": [
    "#### Ejercicio 5:\n",
    "\n",
    "Dado los siguientes arrays, devuelva los índices que poseen valores distintos de 0.\n",
    "\n",
    "```python\n",
    "array_1 = np.array([2, 3, 0, 1, 2, 0, 4, 8, 0])\n",
    "\n",
    "array_2 = np.array([2, 3, 0, 1], [2, 0, 4, 8])\n",
    "\n",
    "array_3 = np.array([2, 3], [0, 1], [2, 0])\n",
    "\n",
    "```"
   ]
  },
  {
   "cell_type": "code",
   "execution_count": 106,
   "metadata": {},
   "outputs": [
    {
     "name": "stdout",
     "output_type": "stream",
     "text": [
      "(array([0, 1, 3, 4, 6, 7]),) \n",
      " (array([0, 0, 0, 1, 1, 1]), array([0, 1, 3, 0, 2, 3])) \n",
      " (array([0, 0, 1, 2]), array([0, 1, 1, 0]))\n"
     ]
    }
   ],
   "source": [
    "array_1 = np.array([2, 3, 0, 1, 2, 0, 4, 8, 0])\n",
    "array_2 = np.array([[2, 3, 0, 1], [2, 0, 4, 8]])\n",
    "array_3 = np.array([[2, 3], [0, 1], [2, 0]])\n",
    "print(f'{np.where(array_1 != 0)} \\n {np.where(array_2 != 0)} \\n {np.where(array_3 != 0)}')\n",
    "\n",
    "\n",
    "\n"
   ]
  },
  {
   "cell_type": "markdown",
   "metadata": {},
   "source": [
    "#### Ejercicio 6:\n",
    "\n",
    "Cree una matriz de 4x4 con valores aleatorios. Cambie sus dimensiones para que posea dos filas."
   ]
  },
  {
   "cell_type": "code",
   "execution_count": 24,
   "metadata": {},
   "outputs": [
    {
     "data": {
      "text/plain": [
       "array([[0.04047139, 0.4305352 , 0.53873854, 0.20921385],\n",
       "       [0.81942981, 0.22958576, 0.69417732, 0.5170683 ],\n",
       "       [0.83601697, 0.15729309, 0.89670064, 0.51284777],\n",
       "       [0.72636626, 0.95160256, 0.09491162, 0.44631365]])"
      ]
     },
     "execution_count": 24,
     "metadata": {},
     "output_type": "execute_result"
    }
   ],
   "source": [
    "np.random.rand(16).reshape(4,4)"
   ]
  },
  {
   "cell_type": "markdown",
   "metadata": {},
   "source": [
    "#### Ejercicio 7:\n",
    "\n",
    "Cree una matriz de valores aleatorios y calcule su media (global, por columna y por fila)."
   ]
  },
  {
   "cell_type": "code",
   "execution_count": 80,
   "metadata": {},
   "outputs": [],
   "source": [
    "arr = np.random.rand(4)* 1000\n",
    "arr2 = np.random.rand(16).reshape(4,4)*100"
   ]
  },
  {
   "cell_type": "code",
   "execution_count": 95,
   "metadata": {},
   "outputs": [
    {
     "name": "stdout",
     "output_type": "stream",
     "text": [
      "[[36.68904531  2.51096039 43.23559724 57.77449015]\n",
      " [53.97231221 77.99251533 51.23312729 37.06995884]\n",
      " [31.58967454 78.29959753 85.85129166 48.33820301]\n",
      " [14.56935548 30.69782075 86.14389659 31.57875412]]\n",
      "47.97166252866322\n",
      "Fila 0 35.052523274498945\n",
      "Columna 0 34.205096884731745\n",
      "Fila 1 55.066978418518346\n",
      "Columna 1 47.375223503473876\n",
      "Fila 2 61.01969168573059\n",
      "Columna 2 66.61597819621232\n",
      "Fila 3 40.74745673590502\n",
      "Columna 3 43.69035153023495\n"
     ]
    }
   ],
   "source": [
    "\n",
    "print(arr2)\n",
    "print(arr2.mean())\n",
    "\n",
    "for i in range(0,4):\n",
    "    print(f'Fila {i} {arr2[i].mean()}')\n",
    "    print(f'Columna {i} {arr2[:,i].mean()}')\n",
    "\n"
   ]
  },
  {
   "cell_type": "markdown",
   "metadata": {},
   "source": [
    "#### Ejercicio 8:\n",
    "\n",
    "Cree una matriz diagonal cuyos valores sean [5, 8, 2, 4, 6], los demás valores son ceros. Luego, realice las operaciones necesarias para que los valores de la diagonal queden invertidos: la posición (0, 0) debe pasar a la posición (4, 0), y así sucesivamente."
   ]
  },
  {
   "cell_type": "code",
   "execution_count": 124,
   "metadata": {},
   "outputs": [
    {
     "data": {
      "text/plain": [
       "array([[0., 0., 0., 0., 5.],\n",
       "       [0., 0., 0., 8., 0.],\n",
       "       [0., 0., 2., 0., 0.],\n",
       "       [0., 4., 0., 0., 0.],\n",
       "       [6., 0., 0., 0., 0.]])"
      ]
     },
     "execution_count": 124,
     "metadata": {},
     "output_type": "execute_result"
    }
   ],
   "source": [
    "arr = np.array([5,8,2,4,6])\n",
    "identidad = np.identity(5)\n",
    "a = arr*identidad\n",
    "np.fliplr(a)"
   ]
  },
  {
   "cell_type": "markdown",
   "metadata": {},
   "source": [
    "#### Ejercicio 9:\n",
    "\n",
    "Dada una matriz, normalizar y/o estandarizar sus valores.\n",
    "\n",
    "```python\n",
    "\n",
    "[[3, 5, 34, 56, 12]\n",
    "[45, 66, 7, 12, 33]\n",
    "[34, 16, 27, 4, 9]]\n",
    "\n",
    "```\n",
    "\n",
    "*Hint*:\n",
    "* **estandarizar**: $(X - X_{mean}) / X_{std}$\n",
    "* **normalizar**: $(X - X_{min}) / (X_{max} - X_{min})$"
   ]
  },
  {
   "cell_type": "code",
   "execution_count": 145,
   "metadata": {},
   "outputs": [
    {
     "name": "stdout",
     "output_type": "stream",
     "text": [
      "[[-1.09853899 -0.99490324  0.50781519  1.64780849 -0.6321781 ]\n",
      " [ 1.07781184  2.16598725 -0.89126748 -0.6321781   0.45599732]\n",
      " [ 0.50781519 -0.42490659  0.14509006 -1.04672111 -0.78763173]] \n",
      "\n",
      " [[0.         0.03174603 0.49206349 0.84126984 0.14285714]\n",
      " [0.66666667 1.         0.06349206 0.14285714 0.47619048]\n",
      " [0.49206349 0.20634921 0.38095238 0.01587302 0.0952381 ]]\n"
     ]
    }
   ],
   "source": [
    "m = np.array([\n",
    "        [3, 5, 34, 56, 12],\n",
    "        [45, 66, 7, 12, 33],\n",
    "        [34, 16, 27, 4, 9]    \n",
    "])\n",
    "\n",
    "media = m.mean()\n",
    "desvio = m.std()\n",
    "maximo = m.max()\n",
    "minimo = m.min()\n",
    "estandar = (m-media)/desvio\n",
    "normalizada = (m- minimo)/(maximo-minimo)\n",
    "print(estandar, '\\n'*2, normalizada)\n"
   ]
  },
  {
   "cell_type": "markdown",
   "metadata": {},
   "source": [
    "#### Ejercicio 10:\n",
    "\n",
    "1. Cree dos matrices aleatorias de tamaño 3x3 y realice la operación de adición entre ellas.\n",
    "1. Genere una matriz aleatoria de tamaño 4x4 y reste un valor escalar (por ejemplo, 5) a cada elemento de la matriz.\n",
    "1. Cree una matriz aleatoria de tamaño 2x3 y multiplique cada elemento por su correspondiente elemento en una matriz generada aleatoriamente del mismo tamaño."
   ]
  },
  {
   "cell_type": "markdown",
   "metadata": {},
   "source": [
    "#### Ejercicio 11:\n",
    "\n",
    "1. Genere dos matrices aleatorias A y B de tamaño 4x3 y 3x5 respectivamente. Realice la multiplicación de matrices entre A y B.\n",
    "1. Cree una matriz cuadrada aleatoria de tamaño 3x3 y calcule su inversa. Asegurar el manejo de casos donde la matriz no es invertible.\n",
    "1. Genere una matriz cuadrada aleatoria de tamaño 5x5 y calcule su determinante utilizando NumPy."
   ]
  },
  {
   "cell_type": "markdown",
   "metadata": {},
   "source": [
    "#### Ejercicio 12:\n",
    "\n",
    "1. Cree una matriz aleatoria de tamaño 4x4 y acceda al elemento en la primera fila y segunda columna.\n",
    "1. Genere una matriz aleatoria de tamaño 3x3 y extraiga la primera fila de la matriz.\n",
    "1. Cree una matriz aleatoria de tamaño 5x5 y seleccione solo los elementos mayores que 0."
   ]
  },
  {
   "cell_type": "markdown",
   "metadata": {},
   "source": [
    "#### Ejercicio 13:\n",
    "\n",
    "1. Genere una matriz aleatoria de tamaño 6x6 y seleccione los elementos en las diagonales superior e inferior.\n",
    "1. Cree una matriz aleatoria de tamaño 4x4 y extraiga una submatriz formada por las filas y columnas pares.\n",
    "1. Genere una matriz aleatoria de tamaño 7x7 y seleccione un conjunto aleatorio de elementos de la matriz."
   ]
  },
  {
   "cell_type": "markdown",
   "metadata": {},
   "source": [
    "#### Ejercicio 14:\n",
    "\n",
    "Dada una matriz y un escalar, determine cual es el valor presente en la matriz que es más cercano al valor del escalar, donde 'más cercano' refiere a aquel valor cuya distancia en valor absoluto es la menor.\n",
    "\n",
    "```python\n",
    "matriz=[5, 7, 3, 9], k=4\n",
    "matriz=[7, 9, 12, 3], k=5\n",
    "matriz=[2, -5, 5, 8], k=-3\n",
    "matriz=[[2, -5], [3, 8]], k=0\n",
    "```"
   ]
  },
  {
   "cell_type": "markdown",
   "metadata": {},
   "source": [
    "#### Ejercicio 15:\n",
    "\n",
    "Cree una matriz de valores al azar y realice las siguiente consignas:\n",
    "\n",
    "1. Reemplace todos los elementos mayores a 10 por 100\n",
    "1. Reemplace todos los elementos menores a 2 por -100\n",
    "1. Devuelva los índices de los elementos que no son 100 ni -100"
   ]
  },
  {
   "cell_type": "markdown",
   "metadata": {},
   "source": [
    "#### Ejercicio 16:\n",
    "\n",
    "Dado el siguiente array  (`arr = np.arange(20)`) devolver:\n",
    "1. todos los valores entre las posiciones 4 y 15\n",
    "1. los elementos desde el índice 0, salteando un elemento entre cada uno\n",
    "1. el reverso del array\n",
    "1. el reverso del array, pero solo los primeros 4 valores de aquel"
   ]
  },
  {
   "cell_type": "code",
   "execution_count": 159,
   "metadata": {},
   "outputs": [
    {
     "name": "stdout",
     "output_type": "stream",
     "text": [
      "[ 4  5  6  7  8  9 10 11 12 13 14 15]\n",
      "[ 0  2  4  6  8 10 12 14 16 18]\n",
      "[19 18 17 16 15 14 13 12 11 10  9  8  7  6  5  4  3  2  1  0]\n",
      "[19 18 17 16]\n"
     ]
    }
   ],
   "source": [
    "arr = np.arange(20)\n",
    "print(arr[4:16])\n",
    "print(arr[::2])\n",
    "print(arr[::-1])\n",
    "arr2 = arr[::-1]\n",
    "print(arr2[0:4])"
   ]
  }
 ],
 "metadata": {
  "kernelspec": {
   "display_name": "base",
   "language": "python",
   "name": "python3"
  },
  "language_info": {
   "codemirror_mode": {
    "name": "ipython",
    "version": 3
   },
   "file_extension": ".py",
   "mimetype": "text/x-python",
   "name": "python",
   "nbconvert_exporter": "python",
   "pygments_lexer": "ipython3",
   "version": "3.12.4"
  }
 },
 "nbformat": 4,
 "nbformat_minor": 2
}
