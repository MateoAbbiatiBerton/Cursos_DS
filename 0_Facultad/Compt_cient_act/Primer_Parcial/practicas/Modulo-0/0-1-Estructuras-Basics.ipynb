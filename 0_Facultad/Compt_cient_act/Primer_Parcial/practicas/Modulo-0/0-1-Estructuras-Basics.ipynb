{
 "cells": [
  {
   "cell_type": "markdown",
   "metadata": {},
   "source": [
    "# **Práctica 0-1**: Estructuras básicas"
   ]
  },
  {
   "cell_type": "markdown",
   "metadata": {},
   "source": [
    "## Listas"
   ]
  },
  {
   "cell_type": "markdown",
   "metadata": {},
   "source": [
    "#### Ejercicio 1:\n",
    "1. Cree una ```list``` llamada ```numeros``` que contenga enteros del 1 al 5.\n",
    "1. Imprima el primer y último elemento de la lista.\n",
    "1. Agregue el número 6 a la lista.\n",
    "1. Imprima la longitud de la lista.\n",
    "1. Cree una nueva lista llamada ```subconjunto``` mediante el uso de **slicing** de la lista para incluir elementos desde el índice 2 hasta el final.\n",
    "1. Cree una segunda lista llamada ```mas_numeros``` que contenga enteros del 7 al 10. Concatene las listas ```numeros``` y ```mas_numeros``` en una nueva lista llamada ```numeros_combinados```.\n",
    "1. Reemplace el tercer elemento de la lista ```numeros``` con el número 20."
   ]
  },
  {
   "cell_type": "code",
   "execution_count": 57,
   "metadata": {},
   "outputs": [
    {
     "name": "stdout",
     "output_type": "stream",
     "text": [
      "Primer y ultimo numero: [1, 5]\n",
      "longitud de la lista: 5\n",
      "Agregar 6 a numeros. [1, 2, 3, 4, 5, 6]\n",
      "Subconjunto: [2, 3, 4, 5, 6]\n",
      "Numeros combinados: [1, 2, 3, 4, 5, 6, 7, 8, 9, 10]\n",
      "Eliminar tercer elemento de numeros: [1, 2, 4, 5, 6]\n"
     ]
    }
   ],
   "source": [
    "numeros = [1,2,3,4,5]\n",
    "p = numeros[0::len(numeros)-1]\n",
    "print(f'Primer y ultimo numero: {p}')\n",
    "\n",
    "print(f'longitud de la lista: {len(numeros)}')\n",
    "numeros.append(6)\n",
    "print(f'Agregar 6 a numeros. {numeros}')\n",
    "\n",
    "subconjunto = numeros[1::]\n",
    "print(f'Subconjunto: {subconjunto}')\n",
    "\n",
    "mas_numeros = [7,8,9,10]\n",
    "numeros_combinados = numeros + mas_numeros\n",
    "print(f'Numeros combinados: {numeros_combinados}')\n",
    "\n",
    "del numeros[2]\n",
    "print(f'Eliminar tercer elemento de numeros: {numeros}')\n",
    "\n",
    "\n"
   ]
  },
  {
   "cell_type": "markdown",
   "metadata": {},
   "source": [
    "#### Ejercicio 2:\n",
    "1. Cree una ```list``` llamada ```numeros``` que contenga enteros del 1 al 10.\n",
    "1. Elimine el segundo elemento de la lista.\n",
    "1. Verifique si el número 8 está presente en la lista.\n",
    "1. Inserte el número 10 en la posición 2 de la lista.\n",
    "1. Ordene la lista en orden ascendente y almacénela en una nueva lista llamada ```numeros_ordenados```.\n",
    "1. Divida la lista ```numeros``` en dos partes, de modo que la primera mitad se almacene en una lista llamada ```primera_mitad``` y la segunda mitad en una lista llamada ```segunda_mitad```.\n",
    "1. Concatenar las listas ```primera_mitad``` y ```segunda_mitad``` en una nueva lista llamada ```numeros_concatenados```."
   ]
  },
  {
   "cell_type": "code",
   "execution_count": 50,
   "metadata": {},
   "outputs": [
    {
     "name": "stdout",
     "output_type": "stream",
     "text": [
      "Lista numeros: [1, 2, 3, 4, 5, 6, 7, 8, 9, 10]\n",
      "Eliminar segundo elemento de numeros: [1, 3, 4, 5, 6, 7, 8, 9, 10]\n",
      "El 8 esta en la lista? True\n",
      "10 en la posicion dos de la lista: [1, 10, 4, 5, 6, 7, 8, 9, 10]\n",
      "primera mitad: [1, 10, 4, 5] segunda mitad: [6, 7, 8, 9, 10]\n",
      "Numeros concatenados: [1, 10, 4, 5, 6, 7, 8, 9, 10]\n"
     ]
    }
   ],
   "source": [
    "numeros = [1, 2, 3, 4, 5, 6, 7, 8, 9, 10]\n",
    "print(f'Lista numeros: {numeros}')\n",
    "del numeros[1]\n",
    "print(f'Eliminar segundo elemento de numeros: {numeros}')\n",
    "print(f'El 8 esta en la lista? {8 in numeros}')\n",
    "numeros[1] = 10\n",
    "print(f'10 en la posicion dos de la lista: {numeros}')\n",
    "\n",
    "primera_mitad = numeros[:round(len(numeros)/2)]\n",
    "segunda_mitad = numeros[round(len(numeros)/2):]\n",
    "print(f'primera mitad: {primera_mitad} segunda mitad: {segunda_mitad}')\n",
    "numeros_concatenados = primera_mitad + segunda_mitad\n",
    "print(f'Numeros concatenados: {numeros_concatenados}')"
   ]
  },
  {
   "cell_type": "markdown",
   "metadata": {},
   "source": [
    "## Tuples"
   ]
  },
  {
   "cell_type": "markdown",
   "metadata": {},
   "source": [
    "#### Ejercicio 3:\n",
    "1. Cree una ```tuple``` llamada ```frutas``` que contenga los elementos \"manzana\", \"banana\" y \"naranja\".\n",
    "1. Imprima el segundo elemento de la ```tuple```.\n",
    "1. Imprima la longitud de la ```tupla```.\n",
    "1. Cree una segunda ```tuple``` llamada ```verduras``` que contenga los elementos \"zanahoria\" y \"lechuga\". Concatene las tuplas en una nueva tupla llamada ```alimentos```.\n",
    "1. Imprima el último elemento de la tupla alimentos utilizando un índice negativo.\n",
    "1. Intente cambiar el primer elemento de la ```tuple``` ```frutas``` por \"pera\" y observe el error resultante.\n",
    "1. Imprima los primeros tres elementos de la tupla alimentos utilizando slicing.\n",
    "1. Compare las tuplas frutas y verduras utilizando el operador de comparación adecuado e imprima el resultado."
   ]
  },
  {
   "cell_type": "code",
   "execution_count": 80,
   "metadata": {},
   "outputs": [
    {
     "name": "stdout",
     "output_type": "stream",
     "text": [
      "Segundo elemento de frutas: banana\n",
      "Longitud de la tupla: 3\n",
      "Tupla de alimentos: ('manzana', 'banana', 'naranja', 'zanahorias', 'lechuga')\n",
      "Primeros tres elementos de alimentos: ('manzana', 'banana', 'naranja')\n",
      "ultimo elemento: lechuga\n",
      "\n",
      " Comparacion de tuplas\n",
      "False\n",
      "False\n"
     ]
    }
   ],
   "source": [
    "frutas = ('manzana', 'banana', 'naranja')\n",
    "print(f'Segundo elemento de frutas: {frutas[1]}')\n",
    "print(f'Longitud de la tupla: {len(frutas)}')\n",
    "verduras = ('zanahorias', 'lechuga')\n",
    "alimentos = frutas + verduras \n",
    "print(f'Tupla de alimentos: {alimentos}')\n",
    "print(f'Primeros tres elementos de alimentos: {alimentos[:3]}')\n",
    "print(f'ultimo elemento: {alimentos[-1]}')\n",
    "print(f'\\n Comparacion de tuplas')\n",
    "for i, j in zip(verduras, frutas):\n",
    "    print(i==j)\n",
    "\n"
   ]
  },
  {
   "cell_type": "markdown",
   "metadata": {},
   "source": [
    "#### Ejercicio 4:\n",
    "1. Convierta la lista ['perro', 'gato', 'pájaro'] en una tupla llamada animales.\n",
    "1. Verifique si \"perro\" está presente en la tupla animales.\n",
    "1. Imprima el primer y último elemento.\n",
    "1. Imprima la longitud."
   ]
  },
  {
   "cell_type": "code",
   "execution_count": 86,
   "metadata": {},
   "outputs": [
    {
     "name": "stdout",
     "output_type": "stream",
     "text": [
      "True\n",
      "('perro', 'pajaro')\n",
      "3\n"
     ]
    }
   ],
   "source": [
    "list_animales = ['perro', 'gato', 'pajaro']\n",
    "animales= tuple(list_animales)\n",
    "print('perro' in animales)\n",
    "print(animales[0::2])\n",
    "print(len(animales))\n"
   ]
  },
  {
   "cell_type": "markdown",
   "metadata": {},
   "source": [
    "## Sets"
   ]
  },
  {
   "cell_type": "markdown",
   "metadata": {},
   "source": [
    "#### Ejercicio 5:\n",
    "1. Cree un ```set``` llamado frutas que contenga los elementos \"manzana\", \"banana\" y \"naranja\".\n",
    "1. Cree otro ```set``` llamado verduras que contenga los elementos \"zanahoria\" y \"lechuga\".\n",
    "1. Verifique si \"manzana\" está presente en el ```set``` frutas e imprima el resultado.\n",
    "1. Verifique si \"uva\" está presente en el ```set``` frutas e imprima el resultado.\n",
    "1. Encuentre la intersección de los ```set``` frutas y verduras e imprima el resultado.\n",
    "1. Cree un nuevo ```set``` llamado nuevas_frutas que contenga los elementos \"naranja\", \"uva\" y \"piña\".\n",
    "1. Encuentre la unión de los ```set``` frutas y nuevas_frutas e imprima el resultado.\n",
    "1. Encuentre los elementos que son únicos en el ```set``` frutas en comparación con el ```set``` nuevas_frutas e imprima el resultado."
   ]
  },
  {
   "cell_type": "code",
   "execution_count": 19,
   "metadata": {},
   "outputs": [
    {
     "name": "stdout",
     "output_type": "stream",
     "text": [
      "True\n",
      "False\n",
      "set()\n",
      "{'naranja'}\n"
     ]
    }
   ],
   "source": [
    "frutas = set(['manzana', 'banana','naranja'])\n",
    "verduras = set(['zanahoria', 'lechuga'])\n",
    "\n",
    "def is_in_set(the_list, fruit):\n",
    "    if fruit in the_list:\n",
    "        return True\n",
    "    else:\n",
    "        return False\n",
    "\n",
    "print(is_in_set(frutas, 'manzana'))\n",
    "print(is_in_set(verduras, 'uva'))\n",
    "print(frutas & verduras)\n",
    "nuevas_frutas = set(['piña', 'uva','naranja'])\n",
    "print(frutas & nuevas_frutas)"
   ]
  },
  {
   "cell_type": "markdown",
   "metadata": {},
   "source": [
    "#### Ejercicio 6:\n",
    "1. Cree un ```set``` llamado ```numeros_a``` que contenga los elementos 1, 2, 3, 4, 5, 6 y 7.\n",
    "1. Cree otro ```set``` llamado ```numeros_b``` que contenga los elementos 2, 4, 6 y 8.\n",
    "1. Verifique si el número 3 está presente en el ```set``` ```numeros_a```.\n",
    "1. Verifique si el número 10 está presente en el ```set``` ```numeros_a```.\n",
    "1. Encuentre la intersección de los ```set``` ```numeros_a``` y ```numeros_b``` e imprima el resultado.\n",
    "1. Cree un nuevo set llamado ```numeros_c``` que contenga los elementos 3, 5, 7 y 9.\n",
    "1. Encuentre la unión de los set ```numeros_a``` y ```numeros_c``` e imprima el resultado."
   ]
  },
  {
   "cell_type": "code",
   "execution_count": 27,
   "metadata": {},
   "outputs": [
    {
     "name": "stdout",
     "output_type": "stream",
     "text": [
      "True\n",
      "False\n",
      "{2, 4, 6}\n",
      "{3, 5, 7}\n"
     ]
    }
   ],
   "source": [
    "numeros_a = set([1, 2, 3, 4, 5, 6 , 7])\n",
    "numeros_b = set([2,4,6,8])\n",
    "\n",
    "\n",
    "print(3 in numeros_a)\n",
    "print(10 in numeros_a)\n",
    "print(numeros_a & numeros_b)\n",
    "\n",
    "numeros_c = set([3,5,7,9])\n",
    "print(numeros_a & numeros_c)"
   ]
  },
  {
   "cell_type": "markdown",
   "metadata": {},
   "source": [
    "## Dictionaries"
   ]
  },
  {
   "cell_type": "markdown",
   "metadata": {},
   "source": [
    "#### Ejercicio 7:\n",
    "1. Cree un diccionario llamado puntajes_estudiantes con los siguientes pares key-value: \"Alice\" y su puntaje 85, \"Bob\" y su puntaje 90, \"Charlie\" y su puntaje 80.\n",
    "1. Imprima el puntaje de \"Bob\" desde el diccionario puntajes_estudiantes.\n",
    "1. Verifique si \"David\" está presente como key en el diccionario puntajes_estudiantes e imprima el resultado.\n",
    "1. Agregue un nuevo elemento al diccionario puntajes_estudiantes para \"David\" con un puntaje de 95.\n",
    "1. Elimine \"Charlie\" del diccionario puntajes_estudiantes.\n",
    "1. Imprima todas las keys en el diccionario puntajes_estudiantes.\n",
    "1. Imprima todos los values en el diccionario puntajes_estudiantes.\n",
    "1. Imprima todos los pares key-value en el diccionario puntajes_estudiantes."
   ]
  },
  {
   "cell_type": "code",
   "execution_count": 44,
   "metadata": {},
   "outputs": [
    {
     "name": "stdout",
     "output_type": "stream",
     "text": [
      "False\n",
      "{'Alice': 85, 'Bob': 90, 'Charlie': 80, 'David': 95}\n",
      "{'Alice': 85, 'Bob': 90, 'David': 95}\n",
      "dict_keys(['Alice', 'Bob', 'David'])\n",
      "dict_values([85, 90, 95])\n",
      "<zip object at 0x7fdfee392740>\n"
     ]
    }
   ],
   "source": [
    "puntaje_estudiantes = {'Alice':85, 'Bob':90, 'Charlie':80}\n",
    "puntaje_estudiantes['Bob']\n",
    "print('David' in puntaje_estudiantes)\n",
    "puntaje_estudiantes['David'] = 95\n",
    "print(puntaje_estudiantes)\n",
    "puntaje_estudiantes.pop('Charlie')\n",
    "print(puntaje_estudiantes)\n",
    "print(puntaje_estudiantes.keys())\n",
    "print(puntaje_estudiantes.values())\n",
    "print(puntaje_estudiantes.items())"
   ]
  },
  {
   "cell_type": "markdown",
   "metadata": {},
   "source": [
    "#### Ejercicio 8:\n",
    "Utilice los siguientes diccionarios para comppletar las consignas:\n",
    "```python\n",
    "d1 = {'Nombre': 'Juan', 'Edad': 25}\n",
    "d2 = {'Ciudad': 'CABA', 'Carrera': 'Actuario', 'Promedio': 7.5}\n",
    "```\n",
    "1. Una ambos diccionarios\n",
    "1. Genere un nuevo diccionario con las keys **Nombre** (```d1```) y **Promedio** (```d2```)\n",
    "1. Agregue un nuevo key-value al diccionario d1 para el 'Género'\n",
    "1. Combine los diccionarios d1 y d2 en uno solo y almacenarlo en una lista\n",
    "1. Obtenga la cantidad de elementos en cada diccionario."
   ]
  },
  {
   "cell_type": "code",
   "execution_count": 101,
   "metadata": {},
   "outputs": [
    {
     "name": "stdout",
     "output_type": "stream",
     "text": [
      "{'Nombre': 'Juan', 'Edad': 25, 'Promedio': 7.5}\n",
      "[{'Nombre': 'Juan', 'Edad': 25, 'Genero': 'Masculino'}, {'Promedio': 7.5}] \t [{'Nombre': 'Juan', 'Edad': 25, 'Genero': 'Masculino', 'Promedio': 7.5}]\n",
      "3 1 3\n"
     ]
    }
   ],
   "source": [
    "d1 = {'Nombre': 'Juan', 'Edad': 25}\n",
    "d2 = {'Ciudad': 'CABA', 'Carrera': 'Actuario', 'Promedio': 7.5}\n",
    "\n",
    "d2.pop('Ciudad')\n",
    "d2.pop('Carrera')\n",
    "d4 = d1 | d2\n",
    "print(d4)\n",
    "d1['Genero'] = 'Masculino'\n",
    "lista = [d1, d2]\n",
    "lista_ = [d1 | d2]\n",
    "print(f'{lista} \\t {lista_}')\n",
    "\n",
    "\n",
    "print(len(d1), len(d2), len(d4))\n"
   ]
  }
 ],
 "metadata": {
  "kernelspec": {
   "display_name": "general_purpose",
   "language": "python",
   "name": "python3"
  },
  "language_info": {
   "codemirror_mode": {
    "name": "ipython",
    "version": 3
   },
   "file_extension": ".py",
   "mimetype": "text/x-python",
   "name": "python",
   "nbconvert_exporter": "python",
   "pygments_lexer": "ipython3",
   "version": "3.12.4"
  }
 },
 "nbformat": 4,
 "nbformat_minor": 2
}
