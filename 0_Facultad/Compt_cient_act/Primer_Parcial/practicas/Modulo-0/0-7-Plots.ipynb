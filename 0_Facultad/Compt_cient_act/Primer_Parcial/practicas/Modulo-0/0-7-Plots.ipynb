{
 "cells": [
  {
   "cell_type": "markdown",
   "metadata": {},
   "source": [
    "# **Práctica 0-7**: Plots\n",
    "\n",
    "----"
   ]
  },
  {
   "cell_type": "markdown",
   "metadata": {},
   "source": [
    "* A partir del siguiente *dataset* (que deberá descargar desde [Kaggle](https://www.kaggle.com/datasets/lovishbansal123/sales-of-a-supermarket?resource=download)), complete los ejercicios que se presentan a continuación.\n",
    "\n",
    "* Para responder los ejercicios usted deberá optar el/los gráfico/s que considere que mejor responden a la consigna provista.\n",
    "\n",
    "* Se presenta un resumen de la data disponible y una breve descripción de las columnas:\n",
    "\n",
    "    *El conjunto de datos es uno de los registros históricos de ventas de una empresa de supermercados que ha sido registrado en 3 sucursales diferentes durante 3 meses de datos.*\n",
    "\n",
    "    ***Información de atributos***\n",
    "\n",
    "    * Invoice id: Número de identificación de la factura de venta generada por computadora.\n",
    "    * Branch: Sucursal del supercentro (hay 3 sucursales disponibles identificadas por A, B y C).\n",
    "    * City: Ubicación de los supercentros.\n",
    "    * Customer type: Tipo de clientes, registrado por Miembros para clientes que utilizan tarjeta de miembro y Normal para aquellos sin tarjeta de miembro.\n",
    "    * Gender: Tipo de género del cliente.\n",
    "    * Product line: Grupos de categorización general de artículos: Accesorios electrónicos, Accesorios de moda, Alimentos y bebidas, Salud y belleza, Hogar y estilo de vida, Deportes y viajes. En inglés: *Electronic accessories, Fashion accessories, Food and beverages, Health and beauty, Home and lifestyle, Sports and travel*.\n",
    "    * Unit price: Precio de cada producto en dólares.\n",
    "    * Quantity: Número de productos comprados por el cliente.\n",
    "    * Tax: Tarifa de impuesto del 5% para los clientes que compran.\n",
    "    * Total: Precio total incluido impuestos.\n",
    "    * Date: Fecha de compra (registro disponible desde enero de 2019 hasta marzo de 2019).\n",
    "    * Time: Hora de compra (de 10 a. m. a 9 p. m.).\n",
    "    * Payment: Método de pago utilizado por el cliente para la compra (hay 3 métodos disponibles: Efectivo, Tarjeta de crédito y Ewallet). En inglés: *Cash, Credit card and Ewallet*.\n",
    "    * COGS: Costo de bienes vendidos.\n",
    "    * Gross margin percentage: Porcentaje de margen bruto.\n",
    "    * Gross income: Ingreso bruto.\n",
    "    * Rating: Clasificación de estratificación del cliente según su experiencia de compra general (en una escala del 1 al 10)."
   ]
  },
  {
   "cell_type": "markdown",
   "metadata": {},
   "source": [
    "#### Ejercicio 1:\n",
    "\n",
    "Determinar la cantidad de compras efectuadas en cada *'branch'* (rama) de la cadena de supermercados. ¿Qué proporción del total representa cada una?"
   ]
  },
  {
   "cell_type": "markdown",
   "metadata": {},
   "source": [
    "#### Ejercicio 2:\n",
    "\n",
    "Explicar la relación entre el género de los clientes (*Gender*) y su tipo de cliente (*Customer Type*). ¿Y con el tipo de producto (*Product Line*)?"
   ]
  },
  {
   "cell_type": "markdown",
   "metadata": {},
   "source": [
    "#### Ejercicio 3:\n",
    "\n",
    "Explicar la distribución de los montos de ventas según la *'branch'* del supermercado y según el tipo de producto (*Product Line*)."
   ]
  },
  {
   "cell_type": "markdown",
   "metadata": {},
   "source": [
    "#### Ejercicio 4:\n",
    "\n",
    "Mostrar el comportamiento de las ventas (agrupadas por fecha) para cada *'branch'*. Realizar lo mismo para el tipo de producto (*Product Line*)."
   ]
  },
  {
   "cell_type": "markdown",
   "metadata": {},
   "source": [
    "#### Ejercicio 5:\n",
    "\n",
    "Mostrar la distribución de los montos abonadados según el medio de pago (*Payment*)."
   ]
  },
  {
   "cell_type": "markdown",
   "metadata": {},
   "source": [
    "#### Ejercicio 7:\n",
    "\n",
    "Analizar los montos de las compras y la cantidad de productos por operación según la hora del día (*Time*)."
   ]
  },
  {
   "cell_type": "markdown",
   "metadata": {},
   "source": [
    "#### Ejercicio 8:\n",
    "¿Existe alguna relación entre el monto abonado en la compra (*Total*) y el *Rating*?"
   ]
  },
  {
   "cell_type": "markdown",
   "metadata": {},
   "source": [
    "#### Ejercicio 9:\n",
    "\n",
    "¿Existe alguna relación entre el género del cliente, el medio de pago y la hora del día?"
   ]
  },
  {
   "cell_type": "markdown",
   "metadata": {},
   "source": [
    "#### Ejercicio 10:\n",
    "\n",
    "Realizar todos los gráficos que usted considere oportunos para seguir practicando estos temas."
   ]
  }
 ],
 "metadata": {
  "kernelspec": {
   "display_name": "base",
   "language": "python",
   "name": "python3"
  },
  "language_info": {
   "codemirror_mode": {
    "name": "ipython",
    "version": 3
   },
   "file_extension": ".py",
   "mimetype": "text/x-python",
   "name": "python",
   "nbconvert_exporter": "python",
   "pygments_lexer": "ipython3",
   "version": "3.8.16"
  }
 },
 "nbformat": 4,
 "nbformat_minor": 2
}
