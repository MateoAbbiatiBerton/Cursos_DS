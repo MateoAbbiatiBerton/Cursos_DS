{
 "cells": [
  {
   "cell_type": "markdown",
   "metadata": {},
   "source": [
    "# **Práctica 0-0**: Introducción a Python"
   ]
  },
  {
   "cell_type": "markdown",
   "metadata": {},
   "source": [
    "#### Ejercicio 1: \n",
    "Genere al menos 4 variables que resuman su información básica y haga un print de las mismas. Pruebe hacerlo de forma separada (un print por línea) y luego, pruebe hacer el print concatenando todas las variables en el mismo print statement."
   ]
  },
  {
   "cell_type": "code",
   "execution_count": 4,
   "metadata": {},
   "outputs": [
    {
     "name": "stdout",
     "output_type": "stream",
     "text": [
      "mateo\n",
      "Alvarez\n",
      "12345678\n",
      "caba\n",
      "mateo Alvarez 12345678 caba\n"
     ]
    }
   ],
   "source": [
    "nombre = \"Mateo\"\n",
    "apellido = \"Alvarez\"\n",
    "dni = \"12345678\"\n",
    "ciudad = \"caba\"\n",
    "print(nombre)\n",
    "print(apellido)\n",
    "print(dni)\n",
    "print(ciudad)\n",
    "print(nombre, apellido, dni, ciudad)\n",
    "\n"
   ]
  },
  {
   "cell_type": "markdown",
   "metadata": {},
   "source": [
    "#### Ejercicio 2:\n",
    "Cree al menos 3 variables y realice un print statement utilizando <br>\n",
    "a) '+' y <br>\n",
    "b) ','; compare los resultados. ¿Qué diferencias hay entre ambos casos?"
   ]
  },
  {
   "cell_type": "code",
   "execution_count": null,
   "metadata": {},
   "outputs": [],
   "source": [
    "nombre = \"Mateo\"\n",
    "apellido = \"Alvarez\"\n",
    "dni = \"12345678\"\n",
    "print(nombre + "
   ]
  },
  {
   "cell_type": "markdown",
   "metadata": {},
   "source": [
    "#### Ejercicio 3:\n",
    "\n",
    "Genere las siguientes variables y analice a qué tipo de dato/class pertenecen:\n",
    "\n",
    "```python\n",
    "a = 123\n",
    "b = 'hola'\n",
    "c = [1, 2, 3, 4]\n",
    "d = (10, 20, 30)\n",
    "e = 'Hola! Todo bien?'\n",
    "f = {'a' : 456, 'b': 'abc'}\n",
    "g = '123'\n",
    "```\n",
    "¿Qué diferencia hay entre la variable 'a' y la 'g'?"
   ]
  },
  {
   "cell_type": "code",
   "execution_count": 11,
   "metadata": {},
   "outputs": [
    {
     "name": "stdout",
     "output_type": "stream",
     "text": [
      "<class 'int'>\n",
      "<class 'str'>\n",
      "<class 'list'>\n",
      "<class 'tuple'>\n",
      "<class 'str'>\n",
      "<class 'dict'>\n",
      "<class 'str'>\n",
      "\n",
      "La diferencia es que a es un numero entero y g un string\n"
     ]
    }
   ],
   "source": [
    "a = 123\n",
    "b = 'hola'\n",
    "c = [1, 2, 3, 4]\n",
    "d = (10, 20, 30)\n",
    "e = 'Hola! Todo bien?'\n",
    "f = {'a' : 456, 'b': 'abc'}\n",
    "g = '123'\n",
    "\n",
    "varibales = [a,b,c,d,e,f,g]\n",
    "for i in varibales:\n",
    "    print(type(i))\n",
    "\n",
    "print(f'\\n''La diferencia es que a es un numero entero y g un string')\n"
   ]
  },
  {
   "cell_type": "markdown",
   "metadata": {},
   "source": [
    "#### Ejercicio 4:\n",
    "Dadas las siguientes variables, realice las operaciones que se piden a continuación. ¿Qué tipo de datos se obtienen en el resultado? ¿Alguna de las operaciones arroja un error?\n",
    "\n",
    "```python\n",
    "a = 5\n",
    "b = 10\n",
    "c = [1, 2, 3, 4]\n",
    "d = 'asd'\n",
    "e = [10]\n",
    "f = 'qwerty'\n",
    "\n",
    "## Operaciones ##\n",
    "a + b   a + c\n",
    "a * c   a + d\n",
    "c + d   c + e\n",
    "c * e   a * d\n",
    "d + f   a * a\n",
    "```\n"
   ]
  },
  {
   "cell_type": "code",
   "execution_count": 31,
   "metadata": {},
   "outputs": [
    {
     "name": "stdout",
     "output_type": "stream",
     "text": [
      " a + b= {15} \n",
      " a + c= Error \n",
      " a * c= Error \n",
      " a + d= Error \n",
      " c + d= Error \n",
      " c + e= Error \n",
      " c * e= Error \n",
      " d + f= {'asdqwerty'} \n",
      " a * a= {25} \n",
      "\n"
     ]
    }
   ],
   "source": [
    "a = 5\n",
    "b = 10\n",
    "c = [1, 2, 3, 4]\n",
    "d = 'asd'\n",
    "e = [10]\n",
    "f = 'qwerty'\n",
    "print(' a + b=',{a + b}, '\\n',\n",
    "      'a + c=','Error', '\\n',\n",
    "      'a * c=','Error', '\\n',\n",
    "      'a + d=','Error', '\\n',\n",
    "      'c + d=','Error', '\\n',\n",
    "      'c + e=','Error', '\\n',\n",
    "      'c * e=','Error', '\\n',\n",
    "      'd + f=',{d + f}, '\\n',\n",
    "      'a * a=',{a * a}, '\\n',)"
   ]
  },
  {
   "cell_type": "markdown",
   "metadata": {},
   "source": [
    "#### Ejercicio 5:\n",
    "Dadas las siguientes variables, realice los cálculos que se presentan a continuación:\n",
    "```python\n",
    "a = 5\n",
    "b = 10\n",
    "c = 2\n",
    "```\n",
    "1. La suma de los 3 elementos\n",
    "1. El producto de los dos mayores, dividido por el cuadrado del menor\n",
    "1. El promedio de los valores\n",
    "1. La varianza de los valores\n",
    "1. La suma producto de todas las combinaciones posibles\n"
   ]
  },
  {
   "cell_type": "code",
   "execution_count": 49,
   "metadata": {},
   "outputs": [
    {
     "name": "stdout",
     "output_type": "stream",
     "text": [
      "suma: 17\n",
      "promedio 12.5\n",
      "varianza 10.888888888888891\n"
     ]
    }
   ],
   "source": [
    "a = 5\n",
    "b = 10\n",
    "c = 2\n",
    "\n",
    "cuenta = (a*b)/(c**2)\n",
    "promedio = (a+b+c)/3\n",
    "varianza = ((a-promedio)**2+(b-promedio)**2+(c-promedio)**2)/3\n",
    "print('suma:',  a+b+c)\n",
    "print('promedio',  cuenta)\n",
    "print('varianza',  varianza)\n",
    "print('varianza',  varianza)"
   ]
  },
  {
   "cell_type": "markdown",
   "metadata": {},
   "source": [
    "#### Ejercicio 6:\n",
    "Dada la siguiente tasa de interés $i_{3}=0.05$, calcular:\n",
    "1. La tasa de interés efectiva anual\n",
    "1. La tasa de interés efectiva semestral y mensual\n",
    "1. La tasa de interés nominal anual con capitalización bimestral\n",
    "1. La tasa de descuento efectivo anual\n",
    "1. El factor de actualización mensual, trimestral y anual"
   ]
  },
  {
   "cell_type": "code",
   "execution_count": 92,
   "metadata": {},
   "outputs": [
    {
     "name": "stdout",
     "output_type": "stream",
     "text": [
      "TEA: 15.7625 TES: 7.593 TEM: 1.2272\n",
      "Tasa nominal semestral: 14.817\n",
      "Tasa de descuento: 0.9403\n",
      "El factor de actualización mensual: 1.0123, trimestral: 1.0373 y anual: 1.1576\n"
     ]
    }
   ],
   "source": [
    "i3 = 0.05\n",
    "m = 120\n",
    "TEA = (((1+i3)**(360/m))-1)*100\n",
    "TES = (((1+i3)**(180/m))-1)*100\n",
    "TEM = (((1+i3)**(30/m))-1)*100\n",
    "print(f'TEA: {round(TEA, 4)} TES: {round(TES, 4)} TEM: {round(TEM, 4)}')\n",
    "\n",
    "TEB = (((1+i3)**(60/m))-1)*100\n",
    "TNB = TEB * (360/60)\n",
    "print(f'Tasa nominal semestral: {round(TNB, 4)}')\n",
    "\n",
    "d = TEA/(1+TEA)\n",
    "print(f'Tasa de descuento: {round(d, 4)}')\n",
    "\n",
    "TET = (((1+i3)**(90/m))-1)*100\n",
    "print(f'El factor de actualización mensual: {round(1+TEM/100, 4)}, trimestral: {round(1+TET/100, 4)} y anual: {round(1+TEA/100, 4)}')\n"
   ]
  },
  {
   "cell_type": "markdown",
   "metadata": {},
   "source": [
    "#### Ejercicio 7:\n",
    "Dadas la siguientes probalidades $p(x,1)=0.95$, $p(y,1)=0.92$ y $p(z,1)=0.99$, donde $p(x,1)$ es la probabilidad de que (x) sobreviva 1 año y $q(x,0,1)=1-0.95$ es la probabilidad de que (x) fallezca en ese año - las probabilidades son contantes para todos los años - calcular:\n",
    "1. La probabilidad de que x e y sobrevivan un año\n",
    "1. La probabilidad de que los 3 sobrevivan un año\n",
    "1. La probabilidad de que los z sobreviva tres años y fallezca en el cuarto año\n",
    "1. La probabilidad de que al menos dos de los tres sobrevivan un año \n",
    "1. La probabilidad de que nadie sobreviva al primer año"
   ]
  },
  {
   "cell_type": "markdown",
   "metadata": {},
   "source": [
    "#### Ejercicio 8:\n",
    "Genere distintos tipos de datos y analice las diferencias y similitudes entre ellos. ¿En qué situaciones le resultaría más conveniente usar cada uno?"
   ]
  }
 ],
 "metadata": {
  "kernelspec": {
   "display_name": "general_purpose",
   "language": "python",
   "name": "python3"
  },
  "language_info": {
   "codemirror_mode": {
    "name": "ipython",
    "version": 3
   },
   "file_extension": ".py",
   "mimetype": "text/x-python",
   "name": "python",
   "nbconvert_exporter": "python",
   "pygments_lexer": "ipython3",
   "version": "3.12.4"
  }
 },
 "nbformat": 4,
 "nbformat_minor": 2
}
