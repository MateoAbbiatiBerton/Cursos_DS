{
 "cells": [
  {
   "cell_type": "markdown",
   "metadata": {},
   "source": [
    "# **Práctica 0-2**: Condicionales y Esturcturas de Control"
   ]
  },
  {
   "cell_type": "markdown",
   "metadata": {},
   "source": [
    "***\n",
    "#### Ejercicio 1:\n",
    "\n",
    "Genere una secuencia tal que si la *edad* es mayor a 18 genera una respuesta afirmativa y en caso de no serlo, una negativa."
   ]
  },
  {
   "cell_type": "code",
   "execution_count": 5,
   "metadata": {},
   "outputs": [
    {
     "data": {
      "text/plain": [
       "True"
      ]
     },
     "execution_count": 5,
     "metadata": {},
     "output_type": "execute_result"
    }
   ],
   "source": [
    "edad = 19\n",
    "if edad > 18:\n",
    "    statement = True\n",
    "else:\n",
    "    statement = False\n",
    "\n",
    "statement"
   ]
  },
  {
   "cell_type": "markdown",
   "metadata": {},
   "source": [
    "#### Ejercicio 2:\n",
    "\n",
    "Genere una secuencia tal que si el *precio* es mayor a 1000 devuelve: 'Muy caro', si es mayor a 500 pero menor a 1000: 'Moderado', y si es menor a 500: 'Barato'."
   ]
  },
  {
   "cell_type": "code",
   "execution_count": 11,
   "metadata": {},
   "outputs": [
    {
     "name": "stdout",
     "output_type": "stream",
     "text": [
      "Moderado\n"
     ]
    }
   ],
   "source": [
    "precio = 1000\n",
    "if precio > 500 and precio <= 1000:\n",
    "    print('Moderado')\n",
    "elif precio > 1000:\n",
    "    print('Muy caro')\n",
    "else:\n",
    "    print('Barato')"
   ]
  },
  {
   "cell_type": "markdown",
   "metadata": {},
   "source": [
    "#### Ejercicio 3:\n",
    "\n",
    "Genere una secuencia tal que dado un monto se cumpla con las siguientes condiciones:\n",
    "* si el monto es mayor a 100.000 tiene un descuento del 10\\%\n",
    "* si el monto es mayor a 1.000.000 tiene un descuento del 15\\%\n",
    "* si el monto es mayor a 5.000.000 tiene un recargo del 5.5\\%\n",
    "  \n",
    "En todos los casos, se debe devolver el valor inicial, el nuevo valor y el motivo del recargo/descuento."
   ]
  },
  {
   "cell_type": "code",
   "execution_count": 47,
   "metadata": {},
   "outputs": [
    {
     "name": "stdout",
     "output_type": "stream",
     "text": [
      "20000000 \t 21100000.0\n"
     ]
    }
   ],
   "source": [
    "monto = 20000000\n",
    "if monto < 1_000_000 and monto > 100_000:\n",
    "    print(f'{monto} \\t {round(monto*0.9, 2)}')\n",
    "elif 1_000_000 < monto and 5_000_000 > monto:\n",
    "    print(f'{monto} \\t {round(monto*0.85, 2)}')\n",
    "elif monto >= 5_000_000:\n",
    "    print(f'{monto} \\t {round(monto*1.055, 2)}')\n",
    "     \n",
    "   "
   ]
  },
  {
   "cell_type": "markdown",
   "metadata": {},
   "source": [
    "#### Ejercicio 4:\n",
    "\n",
    "Escriba utilizando el ``for loop`` lo necesario para generar lo que se pide a continuación:\n",
    "* todos los valores del 1 al 10\n",
    "* todos los valores del 1 al 10 elevados a la 'k'\n",
    "* los valores menores al 100 que sean múltiplos de 2\n",
    "* los valores mayores al 25 y menores a 100 que sean divisibles por 5\n",
    "* si el valor i es divisible por 2, i al cuadrado; si i no es divisible por 2 ni por 3, i al cubo; para los demás, el valor de i"
   ]
  },
  {
   "cell_type": "code",
   "execution_count": 61,
   "metadata": {},
   "outputs": [
    {
     "name": "stdout",
     "output_type": "stream",
     "text": [
      "1\n",
      "2\n",
      "3\n",
      "4\n",
      "5\n",
      "6\n",
      "7\n",
      "8\n",
      "9\n",
      "10\n",
      "\n",
      "\n",
      "1\n",
      "4\n",
      "9\n",
      "16\n",
      "25\n",
      "36\n",
      "49\n",
      "64\n",
      "81\n",
      "\n",
      "\n",
      "2\n",
      "4\n",
      "6\n",
      "8\n",
      "10\n",
      "12\n",
      "14\n",
      "16\n",
      "18\n",
      "20\n",
      "22\n",
      "24\n",
      "26\n",
      "28\n",
      "30\n",
      "32\n",
      "34\n",
      "36\n",
      "38\n",
      "40\n",
      "42\n",
      "44\n",
      "46\n",
      "48\n",
      "50\n",
      "52\n",
      "54\n",
      "56\n",
      "58\n",
      "60\n",
      "62\n",
      "64\n",
      "66\n",
      "68\n",
      "70\n",
      "72\n",
      "74\n",
      "76\n",
      "78\n",
      "80\n",
      "82\n",
      "84\n",
      "86\n",
      "88\n",
      "90\n",
      "92\n",
      "94\n",
      "96\n",
      "98\n",
      "100\n"
     ]
    }
   ],
   "source": [
    "for i in range(1,11):\n",
    "    print(i)\n",
    "print('\\n')\n",
    "k=2\n",
    "for i in range(1,10):\n",
    "    print(i**k)\n",
    "print('\\n')\n",
    "for i in range(1,101):\n",
    "    if i % 2 == 0:\n",
    "        print(i)\n",
    "    else:\n",
    "        continue"
   ]
  },
  {
   "cell_type": "markdown",
   "metadata": {},
   "source": [
    "#### Ejercicio 5:\n",
    "\n",
    "Indique cuántos elementos pares, impares y primos tienen las siguientes listas:\n",
    "```python\n",
    "lst1 = [0, 1, 1, 2, 3, 5, 8, 13, 21]\n",
    "lst2 = [2, 4, 8, 16, 32, 64]\n",
    "lst3 = [1 , 2, 6, 7, 13, 17, 55, 125]\n",
    "```"
   ]
  },
  {
   "cell_type": "code",
   "execution_count": 109,
   "metadata": {},
   "outputs": [
    {
     "name": "stdout",
     "output_type": "stream",
     "text": [
      "Pares: 3 \t Impares:6 \t Primos: 6\n",
      "Pares: 6 \t Impares:0 \t Primos: 1\n",
      "Pares: 2 \t Impares:6 \t Primos: 5\n"
     ]
    }
   ],
   "source": [
    "lst1 = [0, 1, 1, 2, 3, 5, 8, 13, 21]\n",
    "lst2 = [2, 4, 8, 16, 32, 64]\n",
    "lst3 = [1 , 2, 6, 7, 13, 17, 55, 125]\n",
    "\n",
    "def is_odd_even_or_prime(given_list):\n",
    "    even_numbers = 0 \n",
    "    odd_numbers = 0\n",
    "    prime_numbers = 0\n",
    "    for i in given_list:\n",
    "        if i == 2:\n",
    "            even_numbers += 1\n",
    "            prime_numbers +=1\n",
    "        elif i % 2 == 0 or i == 0:\n",
    "            even_numbers += 1\n",
    "        else:\n",
    "            odd_numbers += 1\n",
    "            n=1000\n",
    "            for j in range(1,n+1):\n",
    "                if i % j == 0 and j!=1 and i!=j:\n",
    "                    break\n",
    "                counter = j\n",
    "            if counter == n:\n",
    "                prime_numbers +=1                     \n",
    "    return even_numbers, odd_numbers, prime_numbers\n",
    "\n",
    "a,b,c = is_odd_even_or_prime(lst1)\n",
    "print(f'Pares: {a} \\t Impares:{b} \\t Primos: {c}')\n",
    "a,b,c = is_odd_even_or_prime(lst2)\n",
    "print(f'Pares: {a} \\t Impares:{b} \\t Primos: {c}')\n",
    "a,b,c = is_odd_even_or_prime(lst3)\n",
    "print(f'Pares: {a} \\t Impares:{b} \\t Primos: {c}')\n",
    "\n",
    "\n",
    "        "
   ]
  },
  {
   "cell_type": "markdown",
   "metadata": {},
   "source": [
    "#### Ejercicio 6:\n",
    "\n",
    "Genere una secuencia tal que dada una lista vacía se le *'appendee'*:\n",
    "* un nuevo valor de la otra lista en cada una de las iteraciones\n",
    "* un nuevo valor de la otra lista multiplicado por 4 en cada una de las iteraciones\n",
    "* un nuevo valor de la otra lista en cada una de las iteraciones siempre y cuando dicho valor se encuentre entre 5 y 12"
   ]
  },
  {
   "cell_type": "code",
   "execution_count": null,
   "metadata": {},
   "outputs": [],
   "source": []
  },
  {
   "cell_type": "markdown",
   "metadata": {},
   "source": [
    "#### Ejercicio 7:\n",
    "\n",
    "Genere una secuencia que imprima el siguiente resultado:<br>\n",
    "```\n",
    "1\n",
    "1 2\n",
    "1 2 3\n",
    "... ...\n",
    "1 2 3 4 5 6 7 8 9 10\n",
    "```\n",
    "\n",
    "*Hint: probar un loop anidado.*"
   ]
  },
  {
   "cell_type": "markdown",
   "metadata": {},
   "source": [
    "#### Ejercicio 8:\n",
    "\n",
    "Genere una secuencia que vaya *'appendeando'* elementos a una lista y una vez alcanzada cierta cantidad de elementos en la lista, termine el *loop* y devuelva la misma.\n",
    "\n",
    "*Hint: use la built-in function ``len(x)``.*"
   ]
  },
  {
   "cell_type": "markdown",
   "metadata": {},
   "source": [
    "***\n",
    "##### En todos los problemas de este apartado deberá usar el concepto de 'list' o 'dict comprehension' para arribar a la solución (ejercicios 9, 10 y 11)"
   ]
  },
  {
   "cell_type": "markdown",
   "metadata": {},
   "source": [
    "#### Ejercicio 9:\n",
    "\n",
    "1. Genere una lista con los primeros 10 números\n",
    "1. Ídem '1.' pero descendente\n",
    "1. Genere una lista con los primeros 'n' números elevados a la 'k'\n",
    "1. Genere una lista cuyos valores sean de la forma: [0, 4, 10, 18, 28, 40, 54, ...] (*Hint: $x^2 + 3 * x$*)"
   ]
  },
  {
   "cell_type": "markdown",
   "metadata": {},
   "source": [
    "#### Ejercicio 10:\n",
    "\n",
    "1. Genere una lista tal que si el valor es [1, 4, 6, 9] aparezca en su posición una 'X'. Lista base: `[ 0,  1,  2,  3,  4,  5,  6,  7,  8,  9, 10]`\n",
    "1. Genere una lista con todos los valores del 1000 al 2000 espaciados por 75\n",
    "1. Genere una lista con los vehículos que pesan menos de 2000 kgs\n",
    "```Python\n",
    "    dic ={\"Auto\": 1500, \"SUV\": 2000, \"Pickup\": 2500,\n",
    "          \"Minivan\": 1600,\"Camioneta\": 2400, \"Camion\": 13600,\n",
    "          \"Bici\": 15, \"Moto\": 110}\n",
    "```    "
   ]
  },
  {
   "cell_type": "markdown",
   "metadata": {},
   "source": [
    "#### Ejercicio 11:\n",
    "\n",
    "Teniendo en cuenta las siguientes listas:\n",
    "```Python\n",
    "lst_i = ['a', 'b', 'c', 'd']\n",
    "lst_j = ['w', 'x', 'y', 'z']\n",
    "lst_k = [1, 2, 3, 4]\n",
    "```\n",
    "\n",
    "1. Genere un dictionary tal que dada la siguiente lista sus `keys` y sus `values` sean de la forma {i: i}\n",
    "1. Genere un dictionary tal que dada la siguiente lista sus `keys` y sus `values` sean de la forma {i: j}\n",
    "1. Genere un dictionary tal que dada la siguiente lista sus `keys` y sus `values` sean de la forma {j: k+5}"
   ]
  },
  {
   "cell_type": "markdown",
   "metadata": {},
   "source": [
    "****"
   ]
  },
  {
   "cell_type": "markdown",
   "metadata": {},
   "source": [
    "#### Ejercicio 12:\n",
    "\n",
    "Dado un string, verificar si dicha variable es un palíndromo."
   ]
  },
  {
   "cell_type": "markdown",
   "metadata": {},
   "source": [
    "#### Ejercicio 13:\n",
    "\n",
    "Dado un string que representa una frase, encontrar la palabra más larga en el string:\n",
    "```python\n",
    "frase = \"Hoy es el parcial de Computacion Cientifica Actuarial\"\n",
    "```"
   ]
  },
  {
   "cell_type": "markdown",
   "metadata": {},
   "source": [
    "#### Ejercicio 14:\n",
    "\n",
    "Dada la siguiente frase, genere una secuencia de código tal que agregue cada una de las palabras presentes a la misma a una de las listas que se presentan a continuación, de acuerdo a las condiciones de cada una de ellas:\n",
    "\n",
    "* **lista_1**: palabras que poseen al menos 6 letras y que no terminan en 'n', 's' ni vocal.\n",
    "* **lista_2**: palabras que poseen entre 5 y 10 letras, y que terminan con 'l', 'n' o 's'.\n",
    "* **lista_3**: palabras que tienen dos letras como máximo.\n",
    "* **lista_otras**: todas las palabras que no hayan cumplido con las condiciones anteriores.\n",
    "\n",
    "*Hint: Ignorar los puntos, comas y demás simbolos que pudieran apararecer en la frase.*\n",
    "\n",
    "```python\n",
    "frase = \"\"\"Esta es una frase de ejemplo con algunas palabras que serán clasificadas\n",
    "           en listas diferentes para resolver el ejercicio de la guía de ejercicios\"\"\"\n",
    "``` "
   ]
  }
 ],
 "metadata": {
  "kernelspec": {
   "display_name": "base",
   "language": "python",
   "name": "python3"
  },
  "language_info": {
   "codemirror_mode": {
    "name": "ipython",
    "version": 3
   },
   "file_extension": ".py",
   "mimetype": "text/x-python",
   "name": "python",
   "nbconvert_exporter": "python",
   "pygments_lexer": "ipython3",
   "version": "3.12.4"
  }
 },
 "nbformat": 4,
 "nbformat_minor": 2
}
