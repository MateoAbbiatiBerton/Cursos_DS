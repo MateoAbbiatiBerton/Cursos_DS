{
 "cells": [
  {
   "cell_type": "code",
   "execution_count": 4,
   "metadata": {},
   "outputs": [],
   "source": [
    "import pandas as pd \n",
    "import numpy as np\n"
   ]
  },
  {
   "cell_type": "markdown",
   "metadata": {},
   "source": [
    "### Ejercicio 1\n",
    "\n",
    "Dado un string, verificar si dicha variable es un palíndromo"
   ]
  },
  {
   "cell_type": "code",
   "execution_count": 5,
   "metadata": {},
   "outputs": [
    {
     "data": {
      "text/plain": [
       "True"
      ]
     },
     "execution_count": 5,
     "metadata": {},
     "output_type": "execute_result"
    }
   ],
   "source": [
    "def palindromo(palabra):\n",
    "    return palabra==palabra[::-1]\n",
    "\n",
    "palindromo('anana')"
   ]
  },
  {
   "cell_type": "markdown",
   "metadata": {},
   "source": [
    "### Ejercicio 2\n",
    "Dado un string que representa una frase, encontrar la palabra más larga en el string:\n",
    "* Sin usar dictionary\n",
    "* Usando dictionary"
   ]
  },
  {
   "cell_type": "code",
   "execution_count": 6,
   "metadata": {},
   "outputs": [],
   "source": [
    "s = 'Hoy es el parcial de Computacion Cientifica Actuarial'"
   ]
  },
  {
   "cell_type": "markdown",
   "metadata": {},
   "source": [
    "#### Sin dictionary"
   ]
  },
  {
   "cell_type": "code",
   "execution_count": 7,
   "metadata": {},
   "outputs": [
    {
     "data": {
      "text/plain": [
       "'Computacion'"
      ]
     },
     "execution_count": 7,
     "metadata": {},
     "output_type": "execute_result"
    }
   ],
   "source": [
    "def palabra_mas_larga_sin_dict (frase):\n",
    "    frase_list = frase.split()\n",
    "    frase_largo = []\n",
    "    for i in frase_list:\n",
    "        frase_largo.append(len(i))\n",
    "    posicion = frase_largo.index(max(frase_largo))    \n",
    "    return frase_list[posicion]\n",
    "palabra_mas_larga_sin_dict(s)     \n"
   ]
  },
  {
   "cell_type": "markdown",
   "metadata": {},
   "source": [
    "#### Con Dictionary"
   ]
  },
  {
   "cell_type": "code",
   "execution_count": 8,
   "metadata": {},
   "outputs": [
    {
     "data": {
      "text/plain": [
       "'Computacion'"
      ]
     },
     "execution_count": 8,
     "metadata": {},
     "output_type": "execute_result"
    }
   ],
   "source": [
    "def palabra_mas_larga_con_dict (frase):\n",
    "    dicionario = {len(i):i for i in frase.split()}\n",
    "    valor_maximo = max(dicionario)\n",
    "    respuesta = dicionario.get(valor_maximo)\n",
    "    return respuesta\n",
    "    \n",
    "palabra_mas_larga_con_dict(s)"
   ]
  },
  {
   "cell_type": "markdown",
   "metadata": {},
   "source": [
    "### Ejercicio 3\n",
    "Dada una lista de números, encontrar la suma de todos los elementos pares."
   ]
  },
  {
   "cell_type": "code",
   "execution_count": 9,
   "metadata": {},
   "outputs": [
    {
     "data": {
      "text/plain": [
       "12"
      ]
     },
     "execution_count": 9,
     "metadata": {},
     "output_type": "execute_result"
    }
   ],
   "source": [
    "l = [1,2,3,4,5,6]\n",
    "def suma_elementos_pares(lista):\n",
    "    numeros = []\n",
    "    for i in lista:\n",
    "        if i%2 == 0:\n",
    "            numeros.append(i)\n",
    "    return sum(numeros)\n",
    "suma_elementos_pares(l)"
   ]
  },
  {
   "cell_type": "markdown",
   "metadata": {},
   "source": [
    "### Ejercicio 4\n",
    "\n",
    "Dada una lista de nombres, agregar el prefijo “Sr.” a cada nombre terminado en ‘o’ y “Sra.” a cada\n",
    "nombre terminado en ‘a’. Crear una nueva lista con tales nombres dentro del loop anterior.\n"
   ]
  },
  {
   "cell_type": "code",
   "execution_count": 10,
   "metadata": {},
   "outputs": [
    {
     "data": {
      "text/plain": [
       "['Sr Mariano', 'Sra Juana', 'Sr Santino', 'Juan', 'Sra Clara']"
      ]
     },
     "execution_count": 10,
     "metadata": {},
     "output_type": "execute_result"
    }
   ],
   "source": [
    "nombres = ['Mariano', 'Juana', 'Santino', 'Juan', 'Clara']\n",
    "def prefijos(lista):\n",
    "    for i in lista:\n",
    "        if  i[len(i)-1] == 'o':\n",
    "            lista[lista.index(i)] = 'Sr '+i\n",
    "        elif i[len(i)-1] == 'a':\n",
    "            lista[lista.index(i)] = 'Sra '+i\n",
    "    return lista\n",
    "nueva_lista = prefijos(nombres)\n",
    "\n",
    "nueva_lista       "
   ]
  },
  {
   "cell_type": "markdown",
   "metadata": {},
   "source": [
    "#### Ejercicio 5\n",
    "Dados dos conjuntos (sets), encontrar los elementos comunes entre ellos. Encontrar los elementos\n",
    "que están en uno de los conjuntos pero no en el otro."
   ]
  },
  {
   "cell_type": "code",
   "execution_count": 11,
   "metadata": {},
   "outputs": [
    {
     "name": "stdout",
     "output_type": "stream",
     "text": [
      "{1, 3} {2, 4, 5, 8}\n"
     ]
    }
   ],
   "source": [
    "s1= {1,2,3,4}\n",
    "s2 = {1,3,5,8}\n",
    "iguales = s1&s2\n",
    "diferentes = s1^s2\n",
    "print(iguales, diferentes)"
   ]
  },
  {
   "cell_type": "markdown",
   "metadata": {},
   "source": [
    "### Ejercicio 6\n",
    "Genere una secuencia que imprima el siguiente resultado:\n",
    "*  1\n",
    "*  1 2\n",
    "*  1 2 3\n",
    "*  . . . . . .\n",
    "*  1 2 3 4 5 6 7 8 9 10\n"
   ]
  },
  {
   "cell_type": "code",
   "execution_count": 12,
   "metadata": {},
   "outputs": [
    {
     "name": "stdout",
     "output_type": "stream",
     "text": [
      "1 \n",
      "1 2 \n",
      "1 2 3 \n",
      "1 2 3 4 \n",
      "1 2 3 4 5 \n",
      "1 2 3 4 5 6 \n",
      "1 2 3 4 5 6 7 \n",
      "1 2 3 4 5 6 7 8 \n",
      "1 2 3 4 5 6 7 8 9 \n",
      "1 2 3 4 5 6 7 8 9 10 \n"
     ]
    }
   ],
   "source": [
    "def secuencia():\n",
    "    for i in range(2,12):\n",
    "        impt = list(range(1,i))\n",
    "        for j in impt:    \n",
    "            print(j, end=\" \")\n",
    "        print()\n",
    "secuencia()"
   ]
  },
  {
   "cell_type": "markdown",
   "metadata": {},
   "source": [
    "#### Ejercicio 7\n",
    "Genere una lista con los vehículos que pesan menos de 2000 kgs.Genere una lista con los vehículos que pesan menos de 2000 kgs."
   ]
  },
  {
   "cell_type": "code",
   "execution_count": 13,
   "metadata": {},
   "outputs": [],
   "source": [
    "dic = {\"Auto\": 1500, \"SUV\": 2000, \"Pickup\": 2500,\n",
    "\"Minivan\": 1600,\"Camioneta\": 2400, \"Camion\": 13600,\n",
    "\"Bici\": 7, \"Moto\": 110}"
   ]
  },
  {
   "cell_type": "code",
   "execution_count": 14,
   "metadata": {},
   "outputs": [
    {
     "data": {
      "text/plain": [
       "{'Auto': 1500, 'Minivan': 1600, 'Bici': 7, 'Moto': 110}"
      ]
     },
     "execution_count": 14,
     "metadata": {},
     "output_type": "execute_result"
    }
   ],
   "source": [
    "Nuevo_dic = {i:j for i,j in dic.items() if dic[i]<2000}\n",
    "Nuevo_dic"
   ]
  },
  {
   "cell_type": "markdown",
   "metadata": {},
   "source": [
    "#### Ejercicio 8\n",
    "Dado un diccionario, generar un nuevo diccionario en el que las keys del primero sean los values del\n",
    "segundo y viceversa con los values."
   ]
  },
  {
   "cell_type": "code",
   "execution_count": 15,
   "metadata": {},
   "outputs": [],
   "source": [
    "d = {\n",
    "'key_1': 1,\n",
    "'key_2': 2,\n",
    "'key_3': 3,\n",
    "'key_4': 4,\n",
    "}"
   ]
  },
  {
   "cell_type": "code",
   "execution_count": 16,
   "metadata": {},
   "outputs": [
    {
     "data": {
      "text/plain": [
       "{1: 'key_1', 2: 'key_2', 3: 'key_3', 4: 'key_4'}"
      ]
     },
     "execution_count": 16,
     "metadata": {},
     "output_type": "execute_result"
    }
   ],
   "source": [
    "d_inverso = {j:i for i,j in d.items()}\n",
    "d_inverso"
   ]
  },
  {
   "cell_type": "markdown",
   "metadata": {},
   "source": [
    "#### Ejercicio 9 \n",
    "Dado el siguiente np.array, se pide:\n",
    "1. hallar el número máximo y mínimo del array.\n",
    "2. hallar el número máximo y mínimo de cada columna y de cada fila.\n",
    "3. reemplazar los valores mayores a 50 por 100"
   ]
  },
  {
   "cell_type": "code",
   "execution_count": 23,
   "metadata": {},
   "outputs": [],
   "source": [
    "a = np.array([[4,12,9,24],\n",
    "            [40,102,1,70],\n",
    "            [34,6,2, 97]])\n",
    "\n"
   ]
  },
  {
   "cell_type": "code",
   "execution_count": 24,
   "metadata": {},
   "outputs": [
    {
     "name": "stdout",
     "output_type": "stream",
     "text": [
      "1-  102 1\n",
      "2-filas  24 102 97\n",
      "2-columnas  40 102 9 97\n",
      "3- \n",
      " [[  4  12   9  24]\n",
      " [ 40 100   1 100]\n",
      " [ 34   6   2 100]]\n"
     ]
    }
   ],
   "source": [
    "numero_maximo = a.max()\n",
    "numero_minimo = a.min()\n",
    "print('1- ',numero_maximo, numero_minimo)\n",
    "fil_1 = a[0]\n",
    "fil_2 = a[1]\n",
    "fil_3 = a[2]\n",
    "\n",
    "print('2-filas ',fil_1.max(),fil_2.max(),fil_3.max())\n",
    "col_1 = a[:,0]\n",
    "col_2 = a[:,1]\n",
    "col_3 = a[:,2]\n",
    "col_4 = a[:,3]\n",
    "print('2-columnas ',col_1.max(),col_2.max(),col_3.max(), col_4.max())\n",
    "\n",
    "b = np.where(a >50, 100, a)\n",
    "print('3-', '\\n',b)"
   ]
  },
  {
   "cell_type": "markdown",
   "metadata": {},
   "source": [
    "#### Ejercicio 10\n",
    "Dadas las siguientes matrices, genere una función que multiplique matrices, contemplando la necesidad de transponer cuando sea necesario, o que realice el producto ”element wise” cuando no haya\n",
    "simetría ni siquiera post-transponerla. Verifique el resultado con las matrices A, B y C."
   ]
  },
  {
   "cell_type": "code",
   "execution_count": 25,
   "metadata": {},
   "outputs": [],
   "source": [
    "A = np.array([[5, 9, 3],\n",
    "            [4, 1, 7]])\n",
    "B = np.array([[8, 3, 2],\n",
    "            [7, 5, 4]])\n",
    "C = np.array([[8, 3, 2],\n",
    "            [7, 5, 4],\n",
    "            [4, 5, 3],\n",
    "            [6, 2, 9]])\n",
    "\n"
   ]
  },
  {
   "cell_type": "code",
   "execution_count": 26,
   "metadata": {},
   "outputs": [
    {
     "name": "stdout",
     "output_type": "stream",
     "text": [
      "[[73 92]\n",
      " [49 61]]\n",
      "[[73 92 74 75]\n",
      " [49 61 42 89]]\n",
      "[[77 79 53 72]\n",
      " [79 90 65 88]]\n",
      "[[77 79]\n",
      " [79 90]\n",
      " [53 65]\n",
      " [72 88]]\n",
      "[[73 49]\n",
      " [92 61]\n",
      " [74 42]\n",
      " [75 89]]\n",
      "[[73 49]\n",
      " [92 61]]\n"
     ]
    }
   ],
   "source": [
    "# No estoy seguro de que este bien\n",
    "def mul_matrices(a,b):\n",
    "    if a.shape[1] == b.shape[0]:\n",
    "        return np.dot(a,b)\n",
    "    elif a.shape[1] == b.shape[1] or a.shape[0] == b.shape[1]:\n",
    "        return np.dot(a,b.T)\n",
    "    else:\n",
    "        print('element wise')\n",
    "        return a*b\n",
    "print(mul_matrices(A,B))\n",
    "print(mul_matrices(A,C))\n",
    "print(mul_matrices(B,C))\n",
    "print(mul_matrices(C,B))\n",
    "print(mul_matrices(C,A))\n",
    "print(mul_matrices(B,A))\n",
    "\n"
   ]
  },
  {
   "cell_type": "markdown",
   "metadata": {},
   "source": [
    "#### Ejercicio 11\n",
    "Dado la siguiente lista, calcular la media móvil considerando 4 elementos para cada uno de sus\n",
    "elementos."
   ]
  },
  {
   "cell_type": "code",
   "execution_count": 27,
   "metadata": {},
   "outputs": [],
   "source": [
    "lista_base = [25, 48, 74, 32, 96, 78, 44, 20, 10, 4, 87, 68, 55, 63, 54, 16, 22,8]\n",
    "lista_media = [0.25, 0.25, 0.25, 0.25]"
   ]
  },
  {
   "cell_type": "code",
   "execution_count": 94,
   "metadata": {},
   "outputs": [
    {
     "name": "stderr",
     "output_type": "stream",
     "text": [
      "/tmp/ipykernel_4794/3670229696.py:8: RuntimeWarning: Mean of empty slice.\n",
      "  if np.isnan(l[i:pl].mean()):\n"
     ]
    },
    {
     "data": {
      "text/plain": [
       "[49, 87, 10]"
      ]
     },
     "execution_count": 94,
     "metadata": {},
     "output_type": "execute_result"
    }
   ],
   "source": [
    "lista_base = [25, 48, 74, 32, 96, 78, 44, 20, 10, 4, 87, 68, 55, 63, 54, 16, 22,8]\n",
    "def media_movil(l):\n",
    "    l = np.array(l)\n",
    "    i = 0\n",
    "    pl = 3\n",
    "    medias_moviles = []\n",
    "    for i in range(0,len(l),4):\n",
    "        if np.isnan(l[i:pl].mean()):\n",
    "            break\n",
    "        else:  \n",
    "            medias_moviles.append(int(l[i:pl].mean()))\n",
    "        pl=pl+3            \n",
    "\n",
    "    return medias_moviles\n",
    "\n",
    "media_movil(lista_base)\n"
   ]
  },
  {
   "cell_type": "markdown",
   "metadata": {},
   "source": [
    "#### Ejercicio 12: \n",
    "Dada una secuencia de valores, determinar si existen valores que se repiten de forma consecutiva 3\n",
    "o más veces."
   ]
  },
  {
   "cell_type": "code",
   "execution_count": 95,
   "metadata": {},
   "outputs": [],
   "source": [
    "seq = [1,2,2,3,3,3,4]"
   ]
  },
  {
   "cell_type": "code",
   "execution_count": 121,
   "metadata": {},
   "outputs": [
    {
     "data": {
      "text/plain": [
       "[3]"
      ]
     },
     "execution_count": 121,
     "metadata": {},
     "output_type": "execute_result"
    }
   ],
   "source": [
    "def contar_repetidos(seq):\n",
    "    count = 0\n",
    "    lista_repetidos = []\n",
    "    l = set()\n",
    "    for i in seq:\n",
    "        if seq[i]==seq[i+1]:\n",
    "            count +=1\n",
    "        else:\n",
    "            count = 1\n",
    "        if count >= 3:\n",
    "            l = set()\n",
    "            l.add(i-1)\n",
    "\n",
    "            # lista_repetidos.append(l)\n",
    "    return list(l)\n",
    "\n",
    "contar_repetidos(seq)    "
   ]
  },
  {
   "cell_type": "markdown",
   "metadata": {},
   "source": [
    "#### Ejercicio 13:\n",
    "Cree una función que dado un integer, una lista o un set, devuelva el valor de cada elemento elevado\n",
    "a un valor k, que se deberá determinar como un parámetro de la función.\n"
   ]
  },
  {
   "cell_type": "code",
   "execution_count": 129,
   "metadata": {},
   "outputs": [
    {
     "data": {
      "text/plain": [
       "16"
      ]
     },
     "execution_count": 129,
     "metadata": {},
     "output_type": "execute_result"
    }
   ],
   "source": [
    "def potencia(a,b):\n",
    "    if type(a) != int:\n",
    "        lista = []    \n",
    "        for i in a:\n",
    "            lista.append(i**b)\n",
    "        return lista\n",
    "    else:\n",
    "        return a**b\n",
    "\n",
    "\n",
    "potencia(4,2)\n",
    "\n",
    "\n",
    "\n",
    "\n"
   ]
  },
  {
   "cell_type": "markdown",
   "metadata": {},
   "source": [
    "#### Ejercicio 14: (puntaje: 10)\n",
    "Dado el siguiente pd.DataFrame, se pide:\n",
    "1. determinar la cantidad de nulos en el dataset y por columna.\n",
    "2. completar los valores nulos con la media de columna.\n",
    "3. crear una nueva columna tal que sea la suma de la ‘col1’ y la ‘col4’.\n",
    "4. crear una nueva columna tal que sea el producto de la ‘col2’ y la ‘col3’, dividido por una\n",
    "constante igual a 5.\n",
    "5. determinar la cantidad de valores por columna que superan el valor de 8.\n",
    "6. cambiar los nombres de todas las columnas por ‘columna_i’ en lugar del ‘col_i’."
   ]
  },
  {
   "cell_type": "code",
   "execution_count": 184,
   "metadata": {},
   "outputs": [],
   "source": [
    "rng = np.random.default_rng(999)\n",
    "col1 = rng.choice(a = [1,2,3], size = 1000)\n",
    "col2 = rng.choice(a = [25, 75, 150, np.nan], p = [0.5, 0.25, 0.15, 0.10], size =1000)\n",
    "col3 = rng.exponential(5, size = 1000)\n",
    "col4 = rng.uniform(low = 1, high = 10, size = 1000)\n",
    "col5 = rng.choice(a = [1, 2, 3, 4, 5, 6 , 7, 8, 9, 10, np.nan], size = 1000)\n",
    "cols = [col1, col2, col3, col4, col5]\n",
    "X = pd.DataFrame(data = {'col1': col1,\n",
    "'col2': col2,\n",
    "'col3': col3,\n",
    "'col4': col4,\n",
    "'col5': col5,\n",
    "})\n"
   ]
  },
  {
   "cell_type": "code",
   "execution_count": 185,
   "metadata": {},
   "outputs": [
    {
     "name": "stdout",
     "output_type": "stream",
     "text": [
      "Por columna col1      0\n",
      "col2    103\n",
      "col3      0\n",
      "col4      0\n",
      "col5    104\n",
      "dtype: int64\n",
      "En total 207\n"
     ]
    }
   ],
   "source": [
    "print('Por columna',X.isna().sum())\n",
    "print('En total',X.isna().sum().sum())"
   ]
  },
  {
   "cell_type": "code",
   "execution_count": 189,
   "metadata": {},
   "outputs": [
    {
     "data": {
      "text/html": [
       "<div>\n",
       "<style scoped>\n",
       "    .dataframe tbody tr th:only-of-type {\n",
       "        vertical-align: middle;\n",
       "    }\n",
       "\n",
       "    .dataframe tbody tr th {\n",
       "        vertical-align: top;\n",
       "    }\n",
       "\n",
       "    .dataframe thead th {\n",
       "        text-align: right;\n",
       "    }\n",
       "</style>\n",
       "<table border=\"1\" class=\"dataframe\">\n",
       "  <thead>\n",
       "    <tr style=\"text-align: right;\">\n",
       "      <th></th>\n",
       "      <th>col1</th>\n",
       "      <th>col2</th>\n",
       "      <th>col3</th>\n",
       "      <th>col4</th>\n",
       "      <th>col5</th>\n",
       "    </tr>\n",
       "  </thead>\n",
       "  <tbody>\n",
       "    <tr>\n",
       "      <th>0</th>\n",
       "      <td>3</td>\n",
       "      <td>25.0</td>\n",
       "      <td>4.649753</td>\n",
       "      <td>4.687258</td>\n",
       "      <td>10.0</td>\n",
       "    </tr>\n",
       "    <tr>\n",
       "      <th>1</th>\n",
       "      <td>3</td>\n",
       "      <td>150.0</td>\n",
       "      <td>0.375732</td>\n",
       "      <td>3.981954</td>\n",
       "      <td>9.0</td>\n",
       "    </tr>\n",
       "    <tr>\n",
       "      <th>2</th>\n",
       "      <td>1</td>\n",
       "      <td>25.0</td>\n",
       "      <td>8.109781</td>\n",
       "      <td>4.606976</td>\n",
       "      <td>8.0</td>\n",
       "    </tr>\n",
       "    <tr>\n",
       "      <th>3</th>\n",
       "      <td>1</td>\n",
       "      <td>150.0</td>\n",
       "      <td>12.984368</td>\n",
       "      <td>1.329778</td>\n",
       "      <td>1.0</td>\n",
       "    </tr>\n",
       "    <tr>\n",
       "      <th>4</th>\n",
       "      <td>1</td>\n",
       "      <td>75.0</td>\n",
       "      <td>1.704501</td>\n",
       "      <td>9.628617</td>\n",
       "      <td>8.0</td>\n",
       "    </tr>\n",
       "    <tr>\n",
       "      <th>5</th>\n",
       "      <td>3</td>\n",
       "      <td>75.0</td>\n",
       "      <td>1.619473</td>\n",
       "      <td>9.834628</td>\n",
       "      <td>8.0</td>\n",
       "    </tr>\n",
       "    <tr>\n",
       "      <th>6</th>\n",
       "      <td>1</td>\n",
       "      <td>25.0</td>\n",
       "      <td>0.605714</td>\n",
       "      <td>2.059097</td>\n",
       "      <td>7.0</td>\n",
       "    </tr>\n",
       "    <tr>\n",
       "      <th>7</th>\n",
       "      <td>3</td>\n",
       "      <td>25.0</td>\n",
       "      <td>1.910043</td>\n",
       "      <td>3.356397</td>\n",
       "      <td>5.0</td>\n",
       "    </tr>\n",
       "    <tr>\n",
       "      <th>8</th>\n",
       "      <td>1</td>\n",
       "      <td>25.0</td>\n",
       "      <td>2.194542</td>\n",
       "      <td>5.439999</td>\n",
       "      <td>8.0</td>\n",
       "    </tr>\n",
       "    <tr>\n",
       "      <th>9</th>\n",
       "      <td>1</td>\n",
       "      <td>75.0</td>\n",
       "      <td>5.558337</td>\n",
       "      <td>5.139334</td>\n",
       "      <td>6.0</td>\n",
       "    </tr>\n",
       "    <tr>\n",
       "      <th>10</th>\n",
       "      <td>1</td>\n",
       "      <td>25.0</td>\n",
       "      <td>7.587427</td>\n",
       "      <td>2.446766</td>\n",
       "      <td>8.0</td>\n",
       "    </tr>\n",
       "    <tr>\n",
       "      <th>11</th>\n",
       "      <td>3</td>\n",
       "      <td>150.0</td>\n",
       "      <td>0.247942</td>\n",
       "      <td>7.286054</td>\n",
       "      <td>8.0</td>\n",
       "    </tr>\n",
       "    <tr>\n",
       "      <th>12</th>\n",
       "      <td>1</td>\n",
       "      <td>25.0</td>\n",
       "      <td>7.452068</td>\n",
       "      <td>4.647055</td>\n",
       "      <td>6.0</td>\n",
       "    </tr>\n",
       "    <tr>\n",
       "      <th>13</th>\n",
       "      <td>1</td>\n",
       "      <td>75.0</td>\n",
       "      <td>11.859209</td>\n",
       "      <td>3.281007</td>\n",
       "      <td>NaN</td>\n",
       "    </tr>\n",
       "    <tr>\n",
       "      <th>14</th>\n",
       "      <td>3</td>\n",
       "      <td>25.0</td>\n",
       "      <td>0.179158</td>\n",
       "      <td>1.251387</td>\n",
       "      <td>8.0</td>\n",
       "    </tr>\n",
       "    <tr>\n",
       "      <th>15</th>\n",
       "      <td>2</td>\n",
       "      <td>25.0</td>\n",
       "      <td>6.701471</td>\n",
       "      <td>4.573648</td>\n",
       "      <td>3.0</td>\n",
       "    </tr>\n",
       "    <tr>\n",
       "      <th>16</th>\n",
       "      <td>2</td>\n",
       "      <td>75.0</td>\n",
       "      <td>2.137711</td>\n",
       "      <td>3.482047</td>\n",
       "      <td>7.0</td>\n",
       "    </tr>\n",
       "    <tr>\n",
       "      <th>17</th>\n",
       "      <td>3</td>\n",
       "      <td>NaN</td>\n",
       "      <td>7.272538</td>\n",
       "      <td>5.611713</td>\n",
       "      <td>NaN</td>\n",
       "    </tr>\n",
       "    <tr>\n",
       "      <th>18</th>\n",
       "      <td>2</td>\n",
       "      <td>75.0</td>\n",
       "      <td>1.992781</td>\n",
       "      <td>8.961456</td>\n",
       "      <td>2.0</td>\n",
       "    </tr>\n",
       "    <tr>\n",
       "      <th>19</th>\n",
       "      <td>1</td>\n",
       "      <td>25.0</td>\n",
       "      <td>5.218934</td>\n",
       "      <td>2.189458</td>\n",
       "      <td>3.0</td>\n",
       "    </tr>\n",
       "  </tbody>\n",
       "</table>\n",
       "</div>"
      ],
      "text/plain": [
       "    col1   col2       col3      col4  col5\n",
       "0      3   25.0   4.649753  4.687258  10.0\n",
       "1      3  150.0   0.375732  3.981954   9.0\n",
       "2      1   25.0   8.109781  4.606976   8.0\n",
       "3      1  150.0  12.984368  1.329778   1.0\n",
       "4      1   75.0   1.704501  9.628617   8.0\n",
       "5      3   75.0   1.619473  9.834628   8.0\n",
       "6      1   25.0   0.605714  2.059097   7.0\n",
       "7      3   25.0   1.910043  3.356397   5.0\n",
       "8      1   25.0   2.194542  5.439999   8.0\n",
       "9      1   75.0   5.558337  5.139334   6.0\n",
       "10     1   25.0   7.587427  2.446766   8.0\n",
       "11     3  150.0   0.247942  7.286054   8.0\n",
       "12     1   25.0   7.452068  4.647055   6.0\n",
       "13     1   75.0  11.859209  3.281007   NaN\n",
       "14     3   25.0   0.179158  1.251387   8.0\n",
       "15     2   25.0   6.701471  4.573648   3.0\n",
       "16     2   75.0   2.137711  3.482047   7.0\n",
       "17     3    NaN   7.272538  5.611713   NaN\n",
       "18     2   75.0   1.992781  8.961456   2.0\n",
       "19     1   25.0   5.218934  2.189458   3.0"
      ]
     },
     "execution_count": 189,
     "metadata": {},
     "output_type": "execute_result"
    }
   ],
   "source": [
    "X.head(20)"
   ]
  },
  {
   "cell_type": "code",
   "execution_count": 211,
   "metadata": {},
   "outputs": [],
   "source": [
    "X.fillna(X.mean(), inplace= True)"
   ]
  },
  {
   "cell_type": "code",
   "execution_count": 202,
   "metadata": {},
   "outputs": [
    {
     "data": {
      "text/plain": [
       "0      3\n",
       "1      3\n",
       "2      1\n",
       "3      1\n",
       "4      1\n",
       "      ..\n",
       "995    3\n",
       "996    1\n",
       "997    3\n",
       "998    3\n",
       "999    1\n",
       "Name: col1, Length: 1000, dtype: int64"
      ]
     },
     "execution_count": 202,
     "metadata": {},
     "output_type": "execute_result"
    }
   ],
   "source": [
    "X['col1']"
   ]
  },
  {
   "cell_type": "code",
   "execution_count": 205,
   "metadata": {},
   "outputs": [
    {
     "data": {
      "text/html": [
       "<div>\n",
       "<style scoped>\n",
       "    .dataframe tbody tr th:only-of-type {\n",
       "        vertical-align: middle;\n",
       "    }\n",
       "\n",
       "    .dataframe tbody tr th {\n",
       "        vertical-align: top;\n",
       "    }\n",
       "\n",
       "    .dataframe thead th {\n",
       "        text-align: right;\n",
       "    }\n",
       "</style>\n",
       "<table border=\"1\" class=\"dataframe\">\n",
       "  <thead>\n",
       "    <tr style=\"text-align: right;\">\n",
       "      <th></th>\n",
       "      <th>col1</th>\n",
       "      <th>col2</th>\n",
       "      <th>col3</th>\n",
       "      <th>col4</th>\n",
       "      <th>col5</th>\n",
       "      <th>Col6</th>\n",
       "    </tr>\n",
       "  </thead>\n",
       "  <tbody>\n",
       "    <tr>\n",
       "      <th>0</th>\n",
       "      <td>3</td>\n",
       "      <td>25.0</td>\n",
       "      <td>4.649753</td>\n",
       "      <td>4.687258</td>\n",
       "      <td>10.0</td>\n",
       "      <td>7.687258</td>\n",
       "    </tr>\n",
       "    <tr>\n",
       "      <th>1</th>\n",
       "      <td>3</td>\n",
       "      <td>150.0</td>\n",
       "      <td>0.375732</td>\n",
       "      <td>3.981954</td>\n",
       "      <td>9.0</td>\n",
       "      <td>6.981954</td>\n",
       "    </tr>\n",
       "    <tr>\n",
       "      <th>2</th>\n",
       "      <td>1</td>\n",
       "      <td>25.0</td>\n",
       "      <td>8.109781</td>\n",
       "      <td>4.606976</td>\n",
       "      <td>8.0</td>\n",
       "      <td>5.606976</td>\n",
       "    </tr>\n",
       "    <tr>\n",
       "      <th>3</th>\n",
       "      <td>1</td>\n",
       "      <td>150.0</td>\n",
       "      <td>12.984368</td>\n",
       "      <td>1.329778</td>\n",
       "      <td>1.0</td>\n",
       "      <td>2.329778</td>\n",
       "    </tr>\n",
       "    <tr>\n",
       "      <th>4</th>\n",
       "      <td>1</td>\n",
       "      <td>75.0</td>\n",
       "      <td>1.704501</td>\n",
       "      <td>9.628617</td>\n",
       "      <td>8.0</td>\n",
       "      <td>10.628617</td>\n",
       "    </tr>\n",
       "  </tbody>\n",
       "</table>\n",
       "</div>"
      ],
      "text/plain": [
       "   col1   col2       col3      col4  col5       Col6\n",
       "0     3   25.0   4.649753  4.687258  10.0   7.687258\n",
       "1     3  150.0   0.375732  3.981954   9.0   6.981954\n",
       "2     1   25.0   8.109781  4.606976   8.0   5.606976\n",
       "3     1  150.0  12.984368  1.329778   1.0   2.329778\n",
       "4     1   75.0   1.704501  9.628617   8.0  10.628617"
      ]
     },
     "execution_count": 205,
     "metadata": {},
     "output_type": "execute_result"
    }
   ],
   "source": [
    "X['Col6']=X['col1']+X['col4']\n",
    "X.head()"
   ]
  },
  {
   "cell_type": "code",
   "execution_count": 207,
   "metadata": {},
   "outputs": [
    {
     "data": {
      "text/html": [
       "<div>\n",
       "<style scoped>\n",
       "    .dataframe tbody tr th:only-of-type {\n",
       "        vertical-align: middle;\n",
       "    }\n",
       "\n",
       "    .dataframe tbody tr th {\n",
       "        vertical-align: top;\n",
       "    }\n",
       "\n",
       "    .dataframe thead th {\n",
       "        text-align: right;\n",
       "    }\n",
       "</style>\n",
       "<table border=\"1\" class=\"dataframe\">\n",
       "  <thead>\n",
       "    <tr style=\"text-align: right;\">\n",
       "      <th></th>\n",
       "      <th>col1</th>\n",
       "      <th>col2</th>\n",
       "      <th>col3</th>\n",
       "      <th>col4</th>\n",
       "      <th>col5</th>\n",
       "      <th>Col6</th>\n",
       "      <th>Col7</th>\n",
       "    </tr>\n",
       "  </thead>\n",
       "  <tbody>\n",
       "    <tr>\n",
       "      <th>0</th>\n",
       "      <td>3</td>\n",
       "      <td>25.0</td>\n",
       "      <td>4.649753</td>\n",
       "      <td>4.687258</td>\n",
       "      <td>10.0</td>\n",
       "      <td>7.687258</td>\n",
       "      <td>23.248764</td>\n",
       "    </tr>\n",
       "    <tr>\n",
       "      <th>1</th>\n",
       "      <td>3</td>\n",
       "      <td>150.0</td>\n",
       "      <td>0.375732</td>\n",
       "      <td>3.981954</td>\n",
       "      <td>9.0</td>\n",
       "      <td>6.981954</td>\n",
       "      <td>11.271948</td>\n",
       "    </tr>\n",
       "    <tr>\n",
       "      <th>2</th>\n",
       "      <td>1</td>\n",
       "      <td>25.0</td>\n",
       "      <td>8.109781</td>\n",
       "      <td>4.606976</td>\n",
       "      <td>8.0</td>\n",
       "      <td>5.606976</td>\n",
       "      <td>40.548904</td>\n",
       "    </tr>\n",
       "    <tr>\n",
       "      <th>3</th>\n",
       "      <td>1</td>\n",
       "      <td>150.0</td>\n",
       "      <td>12.984368</td>\n",
       "      <td>1.329778</td>\n",
       "      <td>1.0</td>\n",
       "      <td>2.329778</td>\n",
       "      <td>389.531054</td>\n",
       "    </tr>\n",
       "    <tr>\n",
       "      <th>4</th>\n",
       "      <td>1</td>\n",
       "      <td>75.0</td>\n",
       "      <td>1.704501</td>\n",
       "      <td>9.628617</td>\n",
       "      <td>8.0</td>\n",
       "      <td>10.628617</td>\n",
       "      <td>25.567508</td>\n",
       "    </tr>\n",
       "  </tbody>\n",
       "</table>\n",
       "</div>"
      ],
      "text/plain": [
       "   col1   col2       col3      col4  col5       Col6        Col7\n",
       "0     3   25.0   4.649753  4.687258  10.0   7.687258   23.248764\n",
       "1     3  150.0   0.375732  3.981954   9.0   6.981954   11.271948\n",
       "2     1   25.0   8.109781  4.606976   8.0   5.606976   40.548904\n",
       "3     1  150.0  12.984368  1.329778   1.0   2.329778  389.531054\n",
       "4     1   75.0   1.704501  9.628617   8.0  10.628617   25.567508"
      ]
     },
     "execution_count": 207,
     "metadata": {},
     "output_type": "execute_result"
    }
   ],
   "source": [
    "X['Col7']=(X['col2']*X['col3'])/5\n",
    "X.head()"
   ]
  },
  {
   "cell_type": "code",
   "execution_count": 216,
   "metadata": {},
   "outputs": [
    {
     "data": {
      "text/plain": [
       "col1       0\n",
       "col2    1000\n",
       "col3     204\n",
       "col4     210\n",
       "col5     169\n",
       "Col6     411\n",
       "Col7     821\n",
       "dtype: int64"
      ]
     },
     "execution_count": 216,
     "metadata": {},
     "output_type": "execute_result"
    }
   ],
   "source": [
    "X.where(X>8).count()"
   ]
  },
  {
   "cell_type": "code",
   "execution_count": 217,
   "metadata": {},
   "outputs": [
    {
     "data": {
      "text/plain": [
       "col1       0\n",
       "col2    1000\n",
       "col3     204\n",
       "col4     210\n",
       "col5     169\n",
       "Col6     411\n",
       "Col7     821\n",
       "dtype: int64"
      ]
     },
     "execution_count": 217,
     "metadata": {},
     "output_type": "execute_result"
    }
   ],
   "source": [
    "X[X>8].count()"
   ]
  },
  {
   "cell_type": "code",
   "execution_count": 231,
   "metadata": {},
   "outputs": [],
   "source": [
    "nombre_columnas = []\n",
    "for i in range(1,8):\n",
    "    nombre_columnas.append(f'columna_{i}')\n",
    "X.columns = nombre_columnas"
   ]
  },
  {
   "cell_type": "code",
   "execution_count": 232,
   "metadata": {},
   "outputs": [
    {
     "data": {
      "text/html": [
       "<div>\n",
       "<style scoped>\n",
       "    .dataframe tbody tr th:only-of-type {\n",
       "        vertical-align: middle;\n",
       "    }\n",
       "\n",
       "    .dataframe tbody tr th {\n",
       "        vertical-align: top;\n",
       "    }\n",
       "\n",
       "    .dataframe thead th {\n",
       "        text-align: right;\n",
       "    }\n",
       "</style>\n",
       "<table border=\"1\" class=\"dataframe\">\n",
       "  <thead>\n",
       "    <tr style=\"text-align: right;\">\n",
       "      <th></th>\n",
       "      <th>columna_1</th>\n",
       "      <th>columna_2</th>\n",
       "      <th>columna_3</th>\n",
       "      <th>columna_4</th>\n",
       "      <th>columna_5</th>\n",
       "      <th>columna_6</th>\n",
       "      <th>columna_7</th>\n",
       "    </tr>\n",
       "  </thead>\n",
       "  <tbody>\n",
       "    <tr>\n",
       "      <th>0</th>\n",
       "      <td>3</td>\n",
       "      <td>25.0</td>\n",
       "      <td>4.649753</td>\n",
       "      <td>4.687258</td>\n",
       "      <td>10.0</td>\n",
       "      <td>7.687258</td>\n",
       "      <td>23.248764</td>\n",
       "    </tr>\n",
       "    <tr>\n",
       "      <th>1</th>\n",
       "      <td>3</td>\n",
       "      <td>150.0</td>\n",
       "      <td>0.375732</td>\n",
       "      <td>3.981954</td>\n",
       "      <td>9.0</td>\n",
       "      <td>6.981954</td>\n",
       "      <td>11.271948</td>\n",
       "    </tr>\n",
       "    <tr>\n",
       "      <th>2</th>\n",
       "      <td>1</td>\n",
       "      <td>25.0</td>\n",
       "      <td>8.109781</td>\n",
       "      <td>4.606976</td>\n",
       "      <td>8.0</td>\n",
       "      <td>5.606976</td>\n",
       "      <td>40.548904</td>\n",
       "    </tr>\n",
       "    <tr>\n",
       "      <th>3</th>\n",
       "      <td>1</td>\n",
       "      <td>150.0</td>\n",
       "      <td>12.984368</td>\n",
       "      <td>1.329778</td>\n",
       "      <td>1.0</td>\n",
       "      <td>2.329778</td>\n",
       "      <td>389.531054</td>\n",
       "    </tr>\n",
       "    <tr>\n",
       "      <th>4</th>\n",
       "      <td>1</td>\n",
       "      <td>75.0</td>\n",
       "      <td>1.704501</td>\n",
       "      <td>9.628617</td>\n",
       "      <td>8.0</td>\n",
       "      <td>10.628617</td>\n",
       "      <td>25.567508</td>\n",
       "    </tr>\n",
       "  </tbody>\n",
       "</table>\n",
       "</div>"
      ],
      "text/plain": [
       "   columna_1  columna_2  columna_3  columna_4  columna_5  columna_6  \\\n",
       "0          3       25.0   4.649753   4.687258       10.0   7.687258   \n",
       "1          3      150.0   0.375732   3.981954        9.0   6.981954   \n",
       "2          1       25.0   8.109781   4.606976        8.0   5.606976   \n",
       "3          1      150.0  12.984368   1.329778        1.0   2.329778   \n",
       "4          1       75.0   1.704501   9.628617        8.0  10.628617   \n",
       "\n",
       "    columna_7  \n",
       "0   23.248764  \n",
       "1   11.271948  \n",
       "2   40.548904  \n",
       "3  389.531054  \n",
       "4   25.567508  "
      ]
     },
     "execution_count": 232,
     "metadata": {},
     "output_type": "execute_result"
    }
   ],
   "source": [
    "X.head()"
   ]
  },
  {
   "cell_type": "markdown",
   "metadata": {},
   "source": [
    "#### Ejercicio 15: \n",
    "Cree una función tal que dado un listado de palabras, devuelva todas las palabras que poseen un\n",
    "palíndormo en la misma lista. Se deberá devolver una tuple que posea ambas palabras."
   ]
  },
  {
   "cell_type": "code",
   "execution_count": 282,
   "metadata": {},
   "outputs": [],
   "source": [
    "def palindrome_pairs(words):\n",
    "    set1 = set()\n",
    "    for i in range(0,(len(words))):\n",
    "        for j in words:\n",
    "            if i == words.index(j):\n",
    "                continue\n",
    "            elif words[i]==j[::-1]:\n",
    "                set1.add(words[i])\n",
    "                set1.add(j)\n",
    "    return tuple(set1)\n",
    " "
   ]
  },
  {
   "cell_type": "code",
   "execution_count": 279,
   "metadata": {},
   "outputs": [
    {
     "data": {
      "text/plain": [
       "('bat', 'tab')"
      ]
     },
     "execution_count": 279,
     "metadata": {},
     "output_type": "execute_result"
    }
   ],
   "source": [
    "words = [\"bat\", \"tab\", \"cat\"]\n",
    "palindrome_pairs(words)"
   ]
  },
  {
   "cell_type": "code",
   "execution_count": 280,
   "metadata": {},
   "outputs": [],
   "source": [
    "def palindrome_pairs(words):\n",
    "    set1 = set()\n",
    "    lista=[]\n",
    "    for i in range(0,len(words)):\n",
    "        for j in words:\n",
    "            if i == words.index(j):\n",
    "                continue\n",
    "            elif words[i]==j[::-1]:\n",
    "                set1.add(words[i])\n",
    "                set1.add(j)\n",
    "    for i in range(0,len(set1),2):\n",
    "        lista.append(tuple((list(set1))[i:i+2]))        \n",
    "    return lista\n",
    " "
   ]
  },
  {
   "cell_type": "code",
   "execution_count": 281,
   "metadata": {},
   "outputs": [
    {
     "data": {
      "text/plain": [
       "[('abcd', 'dcba'), ('lls', 'sll')]"
      ]
     },
     "execution_count": 281,
     "metadata": {},
     "output_type": "execute_result"
    }
   ],
   "source": [
    "words = [\"abcd\", \"dcba\", \"lls\", \"s\", \"sll\", \"z\"]\n",
    "palindrome_pairs(words)[::1]"
   ]
  }
 ],
 "metadata": {
  "kernelspec": {
   "display_name": "general_purpose",
   "language": "python",
   "name": "python3"
  },
  "language_info": {
   "codemirror_mode": {
    "name": "ipython",
    "version": 3
   },
   "file_extension": ".py",
   "mimetype": "text/x-python",
   "name": "python",
   "nbconvert_exporter": "python",
   "pygments_lexer": "ipython3",
   "version": "3.12.4"
  }
 },
 "nbformat": 4,
 "nbformat_minor": 2
}
