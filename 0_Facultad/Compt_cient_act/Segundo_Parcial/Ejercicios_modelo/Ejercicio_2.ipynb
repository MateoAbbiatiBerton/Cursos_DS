{
 "cells": [
  {
   "cell_type": "code",
   "execution_count": 269,
   "metadata": {},
   "outputs": [],
   "source": [
    "import pandas as pd \n",
    "import numpy as np \n",
    "import matplotlib.pyplot as plt \n",
    "import seaborn as sns\n",
    "\n",
    "from sklearn.model_selection import train_test_split"
   ]
  },
  {
   "cell_type": "code",
   "execution_count": 270,
   "metadata": {},
   "outputs": [],
   "source": [
    "df = pd.read_csv('./breast_cancer.csv')\n"
   ]
  },
  {
   "cell_type": "code",
   "execution_count": 271,
   "metadata": {},
   "outputs": [
    {
     "data": {
      "text/html": [
       "<div>\n",
       "<style scoped>\n",
       "    .dataframe tbody tr th:only-of-type {\n",
       "        vertical-align: middle;\n",
       "    }\n",
       "\n",
       "    .dataframe tbody tr th {\n",
       "        vertical-align: top;\n",
       "    }\n",
       "\n",
       "    .dataframe thead th {\n",
       "        text-align: right;\n",
       "    }\n",
       "</style>\n",
       "<table border=\"1\" class=\"dataframe\">\n",
       "  <thead>\n",
       "    <tr style=\"text-align: right;\">\n",
       "      <th></th>\n",
       "      <th>Clump Thickness</th>\n",
       "      <th>Uniformity of Cell Size</th>\n",
       "      <th>Uniformity of Cell Shape</th>\n",
       "      <th>Marginal Adhesion</th>\n",
       "      <th>Single Epithelial Cell Size</th>\n",
       "      <th>Bare Nuclei</th>\n",
       "      <th>Bland Chromatin</th>\n",
       "      <th>Normal Nucleoli</th>\n",
       "      <th>Mitoses</th>\n",
       "      <th>Class</th>\n",
       "    </tr>\n",
       "  </thead>\n",
       "  <tbody>\n",
       "    <tr>\n",
       "      <th>0</th>\n",
       "      <td>5</td>\n",
       "      <td>1</td>\n",
       "      <td>1</td>\n",
       "      <td>1</td>\n",
       "      <td>2</td>\n",
       "      <td>1</td>\n",
       "      <td>3</td>\n",
       "      <td>1</td>\n",
       "      <td>1</td>\n",
       "      <td>2</td>\n",
       "    </tr>\n",
       "    <tr>\n",
       "      <th>1</th>\n",
       "      <td>5</td>\n",
       "      <td>4</td>\n",
       "      <td>4</td>\n",
       "      <td>5</td>\n",
       "      <td>7</td>\n",
       "      <td>10</td>\n",
       "      <td>3</td>\n",
       "      <td>2</td>\n",
       "      <td>1</td>\n",
       "      <td>2</td>\n",
       "    </tr>\n",
       "    <tr>\n",
       "      <th>2</th>\n",
       "      <td>3</td>\n",
       "      <td>1</td>\n",
       "      <td>1</td>\n",
       "      <td>1</td>\n",
       "      <td>2</td>\n",
       "      <td>2</td>\n",
       "      <td>3</td>\n",
       "      <td>1</td>\n",
       "      <td>1</td>\n",
       "      <td>2</td>\n",
       "    </tr>\n",
       "    <tr>\n",
       "      <th>3</th>\n",
       "      <td>6</td>\n",
       "      <td>8</td>\n",
       "      <td>8</td>\n",
       "      <td>1</td>\n",
       "      <td>3</td>\n",
       "      <td>4</td>\n",
       "      <td>3</td>\n",
       "      <td>7</td>\n",
       "      <td>1</td>\n",
       "      <td>2</td>\n",
       "    </tr>\n",
       "    <tr>\n",
       "      <th>4</th>\n",
       "      <td>4</td>\n",
       "      <td>1</td>\n",
       "      <td>1</td>\n",
       "      <td>3</td>\n",
       "      <td>2</td>\n",
       "      <td>1</td>\n",
       "      <td>3</td>\n",
       "      <td>1</td>\n",
       "      <td>1</td>\n",
       "      <td>2</td>\n",
       "    </tr>\n",
       "  </tbody>\n",
       "</table>\n",
       "</div>"
      ],
      "text/plain": [
       "   Clump Thickness  Uniformity of Cell Size  Uniformity of Cell Shape  \\\n",
       "0                5                        1                         1   \n",
       "1                5                        4                         4   \n",
       "2                3                        1                         1   \n",
       "3                6                        8                         8   \n",
       "4                4                        1                         1   \n",
       "\n",
       "   Marginal Adhesion  Single Epithelial Cell Size  Bare Nuclei  \\\n",
       "0                  1                            2            1   \n",
       "1                  5                            7           10   \n",
       "2                  1                            2            2   \n",
       "3                  1                            3            4   \n",
       "4                  3                            2            1   \n",
       "\n",
       "   Bland Chromatin  Normal Nucleoli  Mitoses  Class  \n",
       "0                3                1        1      2  \n",
       "1                3                2        1      2  \n",
       "2                3                1        1      2  \n",
       "3                3                7        1      2  \n",
       "4                3                1        1      2  "
      ]
     },
     "execution_count": 271,
     "metadata": {},
     "output_type": "execute_result"
    }
   ],
   "source": [
    "df.head()"
   ]
  },
  {
   "cell_type": "code",
   "execution_count": 272,
   "metadata": {},
   "outputs": [],
   "source": [
    "\n",
    "y = df['Class']\n",
    "x = df.drop(['Class'], axis=1)\n",
    "\n",
    "x_train, x_test, y_train, y_test = train_test_split(x, y, test_size= 0.3)\n"
   ]
  },
  {
   "cell_type": "code",
   "execution_count": 273,
   "metadata": {},
   "outputs": [],
   "source": [
    "#Librerias especificas de regresion logistica\n",
    "from ISLP.models import (ModelSpec as MS, summarize)\n",
    "import statsmodels.api as sm"
   ]
  },
  {
   "cell_type": "code",
   "execution_count": 274,
   "metadata": {},
   "outputs": [
    {
     "data": {
      "text/html": [
       "<div>\n",
       "<style scoped>\n",
       "    .dataframe tbody tr th:only-of-type {\n",
       "        vertical-align: middle;\n",
       "    }\n",
       "\n",
       "    .dataframe tbody tr th {\n",
       "        vertical-align: top;\n",
       "    }\n",
       "\n",
       "    .dataframe thead th {\n",
       "        text-align: right;\n",
       "    }\n",
       "</style>\n",
       "<table border=\"1\" class=\"dataframe\">\n",
       "  <thead>\n",
       "    <tr style=\"text-align: right;\">\n",
       "      <th></th>\n",
       "      <th>coef</th>\n",
       "      <th>std err</th>\n",
       "      <th>z</th>\n",
       "      <th>P&gt;|z|</th>\n",
       "    </tr>\n",
       "  </thead>\n",
       "  <tbody>\n",
       "    <tr>\n",
       "      <th>intercept</th>\n",
       "      <td>-13.5619</td>\n",
       "      <td>2.410</td>\n",
       "      <td>-5.628</td>\n",
       "      <td>0.000</td>\n",
       "    </tr>\n",
       "    <tr>\n",
       "      <th>Clump Thickness</th>\n",
       "      <td>0.8664</td>\n",
       "      <td>0.240</td>\n",
       "      <td>3.611</td>\n",
       "      <td>0.000</td>\n",
       "    </tr>\n",
       "    <tr>\n",
       "      <th>Uniformity of Cell Size</th>\n",
       "      <td>-0.1225</td>\n",
       "      <td>0.392</td>\n",
       "      <td>-0.313</td>\n",
       "      <td>0.755</td>\n",
       "    </tr>\n",
       "    <tr>\n",
       "      <th>Uniformity of Cell Shape</th>\n",
       "      <td>0.3396</td>\n",
       "      <td>0.434</td>\n",
       "      <td>0.783</td>\n",
       "      <td>0.434</td>\n",
       "    </tr>\n",
       "    <tr>\n",
       "      <th>Marginal Adhesion</th>\n",
       "      <td>0.4104</td>\n",
       "      <td>0.171</td>\n",
       "      <td>2.403</td>\n",
       "      <td>0.016</td>\n",
       "    </tr>\n",
       "    <tr>\n",
       "      <th>Single Epithelial Cell Size</th>\n",
       "      <td>0.1673</td>\n",
       "      <td>0.197</td>\n",
       "      <td>0.849</td>\n",
       "      <td>0.396</td>\n",
       "    </tr>\n",
       "    <tr>\n",
       "      <th>Bare Nuclei</th>\n",
       "      <td>0.3622</td>\n",
       "      <td>0.128</td>\n",
       "      <td>2.829</td>\n",
       "      <td>0.005</td>\n",
       "    </tr>\n",
       "    <tr>\n",
       "      <th>Bland Chromatin</th>\n",
       "      <td>0.7378</td>\n",
       "      <td>0.278</td>\n",
       "      <td>2.651</td>\n",
       "      <td>0.008</td>\n",
       "    </tr>\n",
       "    <tr>\n",
       "      <th>Normal Nucleoli</th>\n",
       "      <td>0.2938</td>\n",
       "      <td>0.153</td>\n",
       "      <td>1.921</td>\n",
       "      <td>0.055</td>\n",
       "    </tr>\n",
       "    <tr>\n",
       "      <th>Mitoses</th>\n",
       "      <td>0.8531</td>\n",
       "      <td>0.574</td>\n",
       "      <td>1.487</td>\n",
       "      <td>0.137</td>\n",
       "    </tr>\n",
       "  </tbody>\n",
       "</table>\n",
       "</div>"
      ],
      "text/plain": [
       "                                coef  std err      z  P>|z|\n",
       "intercept                   -13.5619    2.410 -5.628  0.000\n",
       "Clump Thickness               0.8664    0.240  3.611  0.000\n",
       "Uniformity of Cell Size      -0.1225    0.392 -0.313  0.755\n",
       "Uniformity of Cell Shape      0.3396    0.434  0.783  0.434\n",
       "Marginal Adhesion             0.4104    0.171  2.403  0.016\n",
       "Single Epithelial Cell Size   0.1673    0.197  0.849  0.396\n",
       "Bare Nuclei                   0.3622    0.128  2.829  0.005\n",
       "Bland Chromatin               0.7378    0.278  2.651  0.008\n",
       "Normal Nucleoli               0.2938    0.153  1.921  0.055\n",
       "Mitoses                       0.8531    0.574  1.487  0.137"
      ]
     },
     "execution_count": 274,
     "metadata": {},
     "output_type": "execute_result"
    }
   ],
   "source": [
    "positive = y_train == 4\n",
    "diseño = MS(x_train)\n",
    "X = diseño.fit_transform(x_train)\n",
    "Y = positive\n",
    "glm = sm.GLM(Y,X,\n",
    "             family=sm.families.Binomial())\n",
    "resultados = glm.fit()\n",
    "summarize(resultados)"
   ]
  },
  {
   "cell_type": "code",
   "execution_count": 275,
   "metadata": {},
   "outputs": [
    {
     "data": {
      "text/plain": [
       "intercept                     -13.561939\n",
       "Clump Thickness                 0.866371\n",
       "Uniformity of Cell Size        -0.122461\n",
       "Uniformity of Cell Shape        0.339618\n",
       "Marginal Adhesion               0.410387\n",
       "Single Epithelial Cell Size     0.167340\n",
       "Bare Nuclei                     0.362160\n",
       "Bland Chromatin                 0.737772\n",
       "Normal Nucleoli                 0.293774\n",
       "Mitoses                         0.853131\n",
       "dtype: float64"
      ]
     },
     "execution_count": 275,
     "metadata": {},
     "output_type": "execute_result"
    }
   ],
   "source": [
    "#coeficientes\n",
    "resultados.params"
   ]
  },
  {
   "cell_type": "code",
   "execution_count": 276,
   "metadata": {},
   "outputs": [
    {
     "data": {
      "text/plain": [
       "intercept                      1.819549e-08\n",
       "Clump Thickness                3.047289e-04\n",
       "Uniformity of Cell Size        7.545193e-01\n",
       "Uniformity of Cell Shape       4.335510e-01\n",
       "Marginal Adhesion              1.624639e-02\n",
       "Single Epithelial Cell Size    3.959329e-01\n",
       "Bare Nuclei                    4.667235e-03\n",
       "Bland Chromatin                8.023201e-03\n",
       "Normal Nucleoli                5.472521e-02\n",
       "Mitoses                        1.370135e-01\n",
       "dtype: float64"
      ]
     },
     "execution_count": 276,
     "metadata": {},
     "output_type": "execute_result"
    }
   ],
   "source": [
    "#p-values\n",
    "# H0 : beta sub i = 0\n",
    "# H1 : beta sub i sig\n",
    "resultados.pvalues\n"
   ]
  },
  {
   "cell_type": "code",
   "execution_count": 277,
   "metadata": {},
   "outputs": [
    {
     "data": {
      "text/plain": [
       "intercept           -13.561939\n",
       "Clump Thickness       0.866371\n",
       "Marginal Adhesion     0.410387\n",
       "Bare Nuclei           0.362160\n",
       "Bland Chromatin       0.737772\n",
       "dtype: float64"
      ]
     },
     "execution_count": 277,
     "metadata": {},
     "output_type": "execute_result"
    }
   ],
   "source": [
    "#coef significativos\n",
    "resultados.params[resultados.pvalues < 0.05]"
   ]
  },
  {
   "cell_type": "code",
   "execution_count": 278,
   "metadata": {},
   "outputs": [
    {
     "data": {
      "text/plain": [
       "Uniformity of Cell Size       -0.122461\n",
       "Uniformity of Cell Shape       0.339618\n",
       "Single Epithelial Cell Size    0.167340\n",
       "Normal Nucleoli                0.293774\n",
       "Mitoses                        0.853131\n",
       "dtype: float64"
      ]
     },
     "execution_count": 278,
     "metadata": {},
     "output_type": "execute_result"
    }
   ],
   "source": [
    "#coef no sginificativos\n",
    "resultados.params[resultados.pvalues > 0.05]"
   ]
  },
  {
   "cell_type": "code",
   "execution_count": 279,
   "metadata": {},
   "outputs": [],
   "source": [
    "aux = resultados.predict(MS(x_test).fit_transform(x_test))\n"
   ]
  },
  {
   "cell_type": "code",
   "execution_count": 280,
   "metadata": {},
   "outputs": [
    {
     "name": "stdout",
     "output_type": "stream",
     "text": [
      "542    2\n",
      "392    2\n",
      "594    2\n",
      "393    2\n",
      "292    4\n",
      "Name: Class, dtype: int64\n"
     ]
    }
   ],
   "source": [
    "y_pred = np.array([4]*len(aux))\n",
    "y_pred[aux<0.5] = 2\n",
    "y_pred = pd.DataFrame(data=y_pred)\n",
    "\n",
    "print(y_test.head())\n"
   ]
  },
  {
   "cell_type": "code",
   "execution_count": 281,
   "metadata": {},
   "outputs": [
    {
     "data": {
      "text/html": [
       "<div>\n",
       "<style scoped>\n",
       "    .dataframe tbody tr th:only-of-type {\n",
       "        vertical-align: middle;\n",
       "    }\n",
       "\n",
       "    .dataframe tbody tr th {\n",
       "        vertical-align: top;\n",
       "    }\n",
       "\n",
       "    .dataframe thead th {\n",
       "        text-align: right;\n",
       "    }\n",
       "</style>\n",
       "<table border=\"1\" class=\"dataframe\">\n",
       "  <thead>\n",
       "    <tr style=\"text-align: right;\">\n",
       "      <th>Truth</th>\n",
       "      <th>2</th>\n",
       "      <th>4</th>\n",
       "    </tr>\n",
       "    <tr>\n",
       "      <th>Predicted</th>\n",
       "      <th></th>\n",
       "      <th></th>\n",
       "    </tr>\n",
       "  </thead>\n",
       "  <tbody>\n",
       "    <tr>\n",
       "      <th>2</th>\n",
       "      <td>120</td>\n",
       "      <td>5</td>\n",
       "    </tr>\n",
       "    <tr>\n",
       "      <th>4</th>\n",
       "      <td>5</td>\n",
       "      <td>75</td>\n",
       "    </tr>\n",
       "  </tbody>\n",
       "</table>\n",
       "</div>"
      ],
      "text/plain": [
       "Truth        2   4\n",
       "Predicted         \n",
       "2          120   5\n",
       "4            5  75"
      ]
     },
     "execution_count": 281,
     "metadata": {},
     "output_type": "execute_result"
    }
   ],
   "source": [
    "from ISLP import confusion_table \n",
    "cf = confusion_table(y_pred, y_test)\n",
    "cf"
   ]
  },
  {
   "cell_type": "code",
   "execution_count": 282,
   "metadata": {},
   "outputs": [],
   "source": [
    "TP = cf.iloc[0,0]\n",
    "FP = cf.iloc[0,1]\n",
    "FN = cf.iloc[1,0]\n",
    "TN = cf.iloc[1,1]\n",
    "N = TP+FP+FN+TN"
   ]
  },
  {
   "cell_type": "code",
   "execution_count": 283,
   "metadata": {},
   "outputs": [],
   "source": [
    "Accuracy = (TP+TN)/N\n",
    "Precision = TP /(TP+FP)\n",
    "Recall = TP / (TP + FN)\n",
    "F_1 = (2*Precision*Recall)/(Precision+Recall)"
   ]
  },
  {
   "cell_type": "code",
   "execution_count": 284,
   "metadata": {},
   "outputs": [
    {
     "name": "stdout",
     "output_type": "stream",
     "text": [
      " \n",
      "Accuracy: 0.9512 \n",
      "Precision: 0.96 \n",
      "Recall: 0.96 \n",
      "F_1: 0.96\n",
      "\n"
     ]
    }
   ],
   "source": [
    "print(f\"\"\" \n",
    "Accuracy: {round(Accuracy,4)} \n",
    "Precision: {round(Precision,4)} \n",
    "Recall: {round(Recall,4)} \n",
    "F_1: {round(F_1,4)}\n",
    "\"\"\")"
   ]
  },
  {
   "cell_type": "markdown",
   "metadata": {},
   "source": [
    "#### Modelo con las varibles significativas"
   ]
  },
  {
   "cell_type": "code",
   "execution_count": 285,
   "metadata": {},
   "outputs": [
    {
     "data": {
      "text/html": [
       "<div>\n",
       "<style scoped>\n",
       "    .dataframe tbody tr th:only-of-type {\n",
       "        vertical-align: middle;\n",
       "    }\n",
       "\n",
       "    .dataframe tbody tr th {\n",
       "        vertical-align: top;\n",
       "    }\n",
       "\n",
       "    .dataframe thead th {\n",
       "        text-align: right;\n",
       "    }\n",
       "</style>\n",
       "<table border=\"1\" class=\"dataframe\">\n",
       "  <thead>\n",
       "    <tr style=\"text-align: right;\">\n",
       "      <th></th>\n",
       "      <th>coef</th>\n",
       "      <th>std err</th>\n",
       "      <th>z</th>\n",
       "      <th>P&gt;|z|</th>\n",
       "    </tr>\n",
       "  </thead>\n",
       "  <tbody>\n",
       "    <tr>\n",
       "      <th>intercept</th>\n",
       "      <td>-13.5619</td>\n",
       "      <td>2.410</td>\n",
       "      <td>-5.628</td>\n",
       "      <td>0.000</td>\n",
       "    </tr>\n",
       "    <tr>\n",
       "      <th>Clump Thickness</th>\n",
       "      <td>0.8664</td>\n",
       "      <td>0.240</td>\n",
       "      <td>3.611</td>\n",
       "      <td>0.000</td>\n",
       "    </tr>\n",
       "    <tr>\n",
       "      <th>Uniformity of Cell Size</th>\n",
       "      <td>-0.1225</td>\n",
       "      <td>0.392</td>\n",
       "      <td>-0.313</td>\n",
       "      <td>0.755</td>\n",
       "    </tr>\n",
       "    <tr>\n",
       "      <th>Uniformity of Cell Shape</th>\n",
       "      <td>0.3396</td>\n",
       "      <td>0.434</td>\n",
       "      <td>0.783</td>\n",
       "      <td>0.434</td>\n",
       "    </tr>\n",
       "    <tr>\n",
       "      <th>Marginal Adhesion</th>\n",
       "      <td>0.4104</td>\n",
       "      <td>0.171</td>\n",
       "      <td>2.403</td>\n",
       "      <td>0.016</td>\n",
       "    </tr>\n",
       "    <tr>\n",
       "      <th>Single Epithelial Cell Size</th>\n",
       "      <td>0.1673</td>\n",
       "      <td>0.197</td>\n",
       "      <td>0.849</td>\n",
       "      <td>0.396</td>\n",
       "    </tr>\n",
       "    <tr>\n",
       "      <th>Bare Nuclei</th>\n",
       "      <td>0.3622</td>\n",
       "      <td>0.128</td>\n",
       "      <td>2.829</td>\n",
       "      <td>0.005</td>\n",
       "    </tr>\n",
       "    <tr>\n",
       "      <th>Bland Chromatin</th>\n",
       "      <td>0.7378</td>\n",
       "      <td>0.278</td>\n",
       "      <td>2.651</td>\n",
       "      <td>0.008</td>\n",
       "    </tr>\n",
       "    <tr>\n",
       "      <th>Normal Nucleoli</th>\n",
       "      <td>0.2938</td>\n",
       "      <td>0.153</td>\n",
       "      <td>1.921</td>\n",
       "      <td>0.055</td>\n",
       "    </tr>\n",
       "    <tr>\n",
       "      <th>Mitoses</th>\n",
       "      <td>0.8531</td>\n",
       "      <td>0.574</td>\n",
       "      <td>1.487</td>\n",
       "      <td>0.137</td>\n",
       "    </tr>\n",
       "  </tbody>\n",
       "</table>\n",
       "</div>"
      ],
      "text/plain": [
       "                                coef  std err      z  P>|z|\n",
       "intercept                   -13.5619    2.410 -5.628  0.000\n",
       "Clump Thickness               0.8664    0.240  3.611  0.000\n",
       "Uniformity of Cell Size      -0.1225    0.392 -0.313  0.755\n",
       "Uniformity of Cell Shape      0.3396    0.434  0.783  0.434\n",
       "Marginal Adhesion             0.4104    0.171  2.403  0.016\n",
       "Single Epithelial Cell Size   0.1673    0.197  0.849  0.396\n",
       "Bare Nuclei                   0.3622    0.128  2.829  0.005\n",
       "Bland Chromatin               0.7378    0.278  2.651  0.008\n",
       "Normal Nucleoli               0.2938    0.153  1.921  0.055\n",
       "Mitoses                       0.8531    0.574  1.487  0.137"
      ]
     },
     "execution_count": 285,
     "metadata": {},
     "output_type": "execute_result"
    }
   ],
   "source": [
    "summarize(resultados)"
   ]
  },
  {
   "cell_type": "code",
   "execution_count": 286,
   "metadata": {},
   "outputs": [
    {
     "data": {
      "text/plain": [
       "['Uniformity of Cell Size',\n",
       " 'Uniformity of Cell Shape',\n",
       " 'Single Epithelial Cell Size',\n",
       " 'Normal Nucleoli',\n",
       " 'Mitoses']"
      ]
     },
     "execution_count": 286,
     "metadata": {},
     "output_type": "execute_result"
    }
   ],
   "source": [
    "list(resultados.params[resultados.pvalues > 0.05].index)"
   ]
  },
  {
   "cell_type": "code",
   "execution_count": 287,
   "metadata": {},
   "outputs": [],
   "source": [
    "df_2 = df.drop(list(resultados.params[resultados.pvalues > 0.05].index), axis=1)\n"
   ]
  },
  {
   "cell_type": "code",
   "execution_count": 288,
   "metadata": {},
   "outputs": [],
   "source": [
    "from sklearn.model_selection import train_test_split\n",
    "# en este caso se va a predecir la varible class como clase 2 o clase 4\n",
    "y_2 = df_2['Class']\n",
    "x_2 = df_2.drop(['Class'], axis=1)\n",
    "\n",
    "x_train_2, x_test_2, y_train_2, y_test_2 = train_test_split(x_2, y_2, test_size= 0.3)"
   ]
  },
  {
   "cell_type": "code",
   "execution_count": 289,
   "metadata": {},
   "outputs": [],
   "source": [
    "from ISLP.models import (ModelSpec as MS, summarize)\n",
    "import statsmodels.api as sm\n",
    "positive = y_train_2 == 4"
   ]
  },
  {
   "cell_type": "code",
   "execution_count": 290,
   "metadata": {},
   "outputs": [],
   "source": [
    "diseño = MS(x_train_2)\n",
    "X_2 = diseño.fit_transform(x_train_2)\n",
    "Y_2 = positive\n",
    "glm = sm.GLM(Y_2,X_2,\n",
    "             family=sm.families.Binomial())\n",
    "resultados_2 = glm.fit()"
   ]
  },
  {
   "cell_type": "code",
   "execution_count": 291,
   "metadata": {},
   "outputs": [
    {
     "data": {
      "text/html": [
       "<div>\n",
       "<style scoped>\n",
       "    .dataframe tbody tr th:only-of-type {\n",
       "        vertical-align: middle;\n",
       "    }\n",
       "\n",
       "    .dataframe tbody tr th {\n",
       "        vertical-align: top;\n",
       "    }\n",
       "\n",
       "    .dataframe thead th {\n",
       "        text-align: right;\n",
       "    }\n",
       "</style>\n",
       "<table border=\"1\" class=\"dataframe\">\n",
       "  <thead>\n",
       "    <tr style=\"text-align: right;\">\n",
       "      <th></th>\n",
       "      <th>coef</th>\n",
       "      <th>std err</th>\n",
       "      <th>z</th>\n",
       "      <th>P&gt;|z|</th>\n",
       "    </tr>\n",
       "  </thead>\n",
       "  <tbody>\n",
       "    <tr>\n",
       "      <th>intercept</th>\n",
       "      <td>-11.6019</td>\n",
       "      <td>1.582</td>\n",
       "      <td>-7.333</td>\n",
       "      <td>0.000</td>\n",
       "    </tr>\n",
       "    <tr>\n",
       "      <th>Clump Thickness</th>\n",
       "      <td>0.9015</td>\n",
       "      <td>0.175</td>\n",
       "      <td>5.150</td>\n",
       "      <td>0.000</td>\n",
       "    </tr>\n",
       "    <tr>\n",
       "      <th>Marginal Adhesion</th>\n",
       "      <td>0.5186</td>\n",
       "      <td>0.162</td>\n",
       "      <td>3.198</td>\n",
       "      <td>0.001</td>\n",
       "    </tr>\n",
       "    <tr>\n",
       "      <th>Bare Nuclei</th>\n",
       "      <td>0.5883</td>\n",
       "      <td>0.127</td>\n",
       "      <td>4.647</td>\n",
       "      <td>0.000</td>\n",
       "    </tr>\n",
       "    <tr>\n",
       "      <th>Bland Chromatin</th>\n",
       "      <td>0.7764</td>\n",
       "      <td>0.196</td>\n",
       "      <td>3.969</td>\n",
       "      <td>0.000</td>\n",
       "    </tr>\n",
       "  </tbody>\n",
       "</table>\n",
       "</div>"
      ],
      "text/plain": [
       "                      coef  std err      z  P>|z|\n",
       "intercept         -11.6019    1.582 -7.333  0.000\n",
       "Clump Thickness     0.9015    0.175  5.150  0.000\n",
       "Marginal Adhesion   0.5186    0.162  3.198  0.001\n",
       "Bare Nuclei         0.5883    0.127  4.647  0.000\n",
       "Bland Chromatin     0.7764    0.196  3.969  0.000"
      ]
     },
     "execution_count": 291,
     "metadata": {},
     "output_type": "execute_result"
    }
   ],
   "source": [
    "summarize(resultados_2)"
   ]
  },
  {
   "cell_type": "code",
   "execution_count": 292,
   "metadata": {},
   "outputs": [],
   "source": [
    "aux = resultados_2.predict(MS(x_test_2).fit_transform(x_test_2))\n",
    "y_pred_2 = np.array([4]*len(aux))\n",
    "y_pred_2[aux<0.5] = 2\n",
    "y_pred_2 = pd.DataFrame(data=y_pred_2)"
   ]
  },
  {
   "cell_type": "code",
   "execution_count": 293,
   "metadata": {},
   "outputs": [
    {
     "data": {
      "text/html": [
       "<div>\n",
       "<style scoped>\n",
       "    .dataframe tbody tr th:only-of-type {\n",
       "        vertical-align: middle;\n",
       "    }\n",
       "\n",
       "    .dataframe tbody tr th {\n",
       "        vertical-align: top;\n",
       "    }\n",
       "\n",
       "    .dataframe thead th {\n",
       "        text-align: right;\n",
       "    }\n",
       "</style>\n",
       "<table border=\"1\" class=\"dataframe\">\n",
       "  <thead>\n",
       "    <tr style=\"text-align: right;\">\n",
       "      <th>Truth</th>\n",
       "      <th>2</th>\n",
       "      <th>4</th>\n",
       "    </tr>\n",
       "    <tr>\n",
       "      <th>Predicted</th>\n",
       "      <th></th>\n",
       "      <th></th>\n",
       "    </tr>\n",
       "  </thead>\n",
       "  <tbody>\n",
       "    <tr>\n",
       "      <th>2</th>\n",
       "      <td>120</td>\n",
       "      <td>7</td>\n",
       "    </tr>\n",
       "    <tr>\n",
       "      <th>4</th>\n",
       "      <td>3</td>\n",
       "      <td>75</td>\n",
       "    </tr>\n",
       "  </tbody>\n",
       "</table>\n",
       "</div>"
      ],
      "text/plain": [
       "Truth        2   4\n",
       "Predicted         \n",
       "2          120   7\n",
       "4            3  75"
      ]
     },
     "execution_count": 293,
     "metadata": {},
     "output_type": "execute_result"
    }
   ],
   "source": [
    "from ISLP import confusion_table \n",
    "cf_2 = confusion_table(y_pred_2, y_test_2)\n",
    "cf_2"
   ]
  },
  {
   "cell_type": "code",
   "execution_count": 294,
   "metadata": {},
   "outputs": [],
   "source": [
    "TP_2 = cf_2.iloc[0,0]\n",
    "FP_2 = cf_2.iloc[0,1]\n",
    "FN_2 = cf_2.iloc[1,0]\n",
    "TN_2 = cf_2.iloc[1,1]\n",
    "N_2 = TP_2+FP_2+FN_2+TN_2"
   ]
  },
  {
   "cell_type": "code",
   "execution_count": 295,
   "metadata": {},
   "outputs": [],
   "source": [
    "Accuracy_2 = (TP_2+TN_2)/N_2\n",
    "Precision_2 = TP /(TP_2+FP_2)\n",
    "Recall_2 = TP_2 / (TP_2 + FN_2)\n",
    "F_1_2 = (2*Precision_2*Recall_2)/(Precision_2+Recall_2)"
   ]
  },
  {
   "cell_type": "code",
   "execution_count": 296,
   "metadata": {},
   "outputs": [
    {
     "name": "stdout",
     "output_type": "stream",
     "text": [
      " \n",
      "Accuracy: 0.9512\tAccuracy_2:\t0.9512\n",
      "Precision: 0.96\tPrecision_2:\t0.9449\n",
      "Recall: 0.96\t\tRecall_2:\t0.9756\n",
      "F_1: 0.96\t\tF_1_2:\t\t0.96\n",
      "\n"
     ]
    }
   ],
   "source": [
    "print(f\"\"\" \n",
    "Accuracy: {round(Accuracy,4)}\\tAccuracy_2:\\t{round(Accuracy_2,4)}\n",
    "Precision: {round(Precision,4)}\\tPrecision_2:\\t{round(Precision_2,4)}\n",
    "Recall: {round(Recall,4)}\\t\\tRecall_2:\\t{round(Recall_2,4)}\n",
    "F_1: {round(F_1,4)}\\t\\tF_1_2:\\t\\t{round(F_1_2,4)}\n",
    "\"\"\")"
   ]
  }
 ],
 "metadata": {
  "kernelspec": {
   "display_name": "general_purpose",
   "language": "python",
   "name": "python3"
  },
  "language_info": {
   "codemirror_mode": {
    "name": "ipython",
    "version": 3
   },
   "file_extension": ".py",
   "mimetype": "text/x-python",
   "name": "python",
   "nbconvert_exporter": "python",
   "pygments_lexer": "ipython3",
   "version": "3.12.4"
  }
 },
 "nbformat": 4,
 "nbformat_minor": 2
}
